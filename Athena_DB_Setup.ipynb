{
 "cells": [
  {
   "cell_type": "code",
   "execution_count": 1,
   "id": "b4893d31-2430-45f7-936a-d80068bba99a",
   "metadata": {
    "execution": {
     "iopub.execute_input": "2025-09-23T03:12:39.332336Z",
     "iopub.status.busy": "2025-09-23T03:12:39.332044Z",
     "iopub.status.idle": "2025-09-23T03:12:41.236204Z",
     "shell.execute_reply": "2025-09-23T03:12:41.235577Z",
     "shell.execute_reply.started": "2025-09-23T03:12:39.332313Z"
    }
   },
   "outputs": [
    {
     "name": "stdout",
     "output_type": "stream",
     "text": [
      "sagemaker.config INFO - Not applying SDK defaults from location: /etc/xdg/sagemaker/config.yaml\n",
      "sagemaker.config INFO - Not applying SDK defaults from location: /home/sagemaker-user/.config/sagemaker/config.yaml\n"
     ]
    }
   ],
   "source": [
    "import boto3\n",
    "import sagemaker\n",
    "from pyathena import connect\n",
    "import pandas as pd"
   ]
  },
  {
   "cell_type": "code",
   "execution_count": 2,
   "id": "d1057ba6-c213-49f1-a35b-d4416863dd7c",
   "metadata": {
    "execution": {
     "iopub.execute_input": "2025-09-23T03:12:42.747842Z",
     "iopub.status.busy": "2025-09-23T03:12:42.747576Z",
     "iopub.status.idle": "2025-09-23T03:12:42.758475Z",
     "shell.execute_reply": "2025-09-23T03:12:42.757766Z",
     "shell.execute_reply.started": "2025-09-23T03:12:42.747821Z"
    }
   },
   "outputs": [],
   "source": [
    "# Config\n",
    "bucket = \"aai540group5\"\n",
    "region = boto3.Session().region_name\n",
    "database_name = \"group5_final_project_db\""
   ]
  },
  {
   "cell_type": "code",
   "execution_count": 3,
   "id": "c37953f5-1a3e-4f42-9162-2db529283e8c",
   "metadata": {
    "execution": {
     "iopub.execute_input": "2025-09-23T03:12:44.460304Z",
     "iopub.status.busy": "2025-09-23T03:12:44.460011Z",
     "iopub.status.idle": "2025-09-23T03:12:44.541660Z",
     "shell.execute_reply": "2025-09-23T03:12:44.540880Z",
     "shell.execute_reply.started": "2025-09-23T03:12:44.460283Z"
    }
   },
   "outputs": [],
   "source": [
    "# Setting up Athena Connection\n",
    "s3_staging_dir = f\"s3://{bucket}/athena/staging\"\n",
    "\n",
    "conn = connect(region_name=region, s3_staging_dir=s3_staging_dir)"
   ]
  },
  {
   "cell_type": "code",
   "execution_count": 4,
   "id": "3599ee2f-c6b9-4d4a-b261-6385e74cb92e",
   "metadata": {
    "execution": {
     "iopub.execute_input": "2025-09-23T03:12:45.560463Z",
     "iopub.status.busy": "2025-09-23T03:12:45.560161Z",
     "iopub.status.idle": "2025-09-23T03:12:47.125530Z",
     "shell.execute_reply": "2025-09-23T03:12:47.124929Z",
     "shell.execute_reply.started": "2025-09-23T03:12:45.560444Z"
    }
   },
   "outputs": [
    {
     "name": "stdout",
     "output_type": "stream",
     "text": [
      "Running: CREATE DATABASE IF NOT EXISTS group5_final_project_db\n"
     ]
    },
    {
     "name": "stderr",
     "output_type": "stream",
     "text": [
      "/tmp/ipykernel_914/3947249608.py:4: UserWarning: pandas only supports SQLAlchemy connectable (engine/connection) or database string URI or sqlite3 DBAPI2 connection. Other DBAPI2 objects are not tested. Please consider using SQLAlchemy.\n",
      "  pd.read_sql(create_db_statement, conn)\n"
     ]
    },
    {
     "data": {
      "text/html": [
       "<div>\n",
       "<style scoped>\n",
       "    .dataframe tbody tr th:only-of-type {\n",
       "        vertical-align: middle;\n",
       "    }\n",
       "\n",
       "    .dataframe tbody tr th {\n",
       "        vertical-align: top;\n",
       "    }\n",
       "\n",
       "    .dataframe thead th {\n",
       "        text-align: right;\n",
       "    }\n",
       "</style>\n",
       "<table border=\"1\" class=\"dataframe\">\n",
       "  <thead>\n",
       "    <tr style=\"text-align: right;\">\n",
       "      <th></th>\n",
       "    </tr>\n",
       "  </thead>\n",
       "  <tbody>\n",
       "  </tbody>\n",
       "</table>\n",
       "</div>"
      ],
      "text/plain": [
       "Empty DataFrame\n",
       "Columns: []\n",
       "Index: []"
      ]
     },
     "execution_count": 4,
     "metadata": {},
     "output_type": "execute_result"
    }
   ],
   "source": [
    "# Creating Database\n",
    "create_db_statement = f\"CREATE DATABASE IF NOT EXISTS {database_name}\"\n",
    "print(f\"Running: {create_db_statement}\")\n",
    "pd.read_sql(create_db_statement, conn)"
   ]
  },
  {
   "cell_type": "code",
   "execution_count": 5,
   "id": "4de8e4a8-c6d7-4206-8753-513b77e99492",
   "metadata": {
    "execution": {
     "iopub.execute_input": "2025-09-23T03:12:52.244347Z",
     "iopub.status.busy": "2025-09-23T03:12:52.244048Z",
     "iopub.status.idle": "2025-09-23T03:12:53.517377Z",
     "shell.execute_reply": "2025-09-23T03:12:53.516696Z",
     "shell.execute_reply.started": "2025-09-23T03:12:52.244326Z"
    }
   },
   "outputs": [
    {
     "name": "stderr",
     "output_type": "stream",
     "text": [
      "/tmp/ipykernel_914/1939824185.py:2: UserWarning: pandas only supports SQLAlchemy connectable (engine/connection) or database string URI or sqlite3 DBAPI2 connection. Other DBAPI2 objects are not tested. Please consider using SQLAlchemy.\n",
      "  df_show = pd.read_sql(\"SHOW DATABASES\", conn)\n"
     ]
    },
    {
     "name": "stdout",
     "output_type": "stream",
     "text": [
      "             database_name\n",
      "0    aai540_assignment2_db\n",
      "1                  default\n",
      "2                   dsoaws\n",
      "3  group5_final_project_db\n",
      "4   sagemaker_featurestore\n",
      "Athena database 'group5_final_project_db' created successfully!\n"
     ]
    }
   ],
   "source": [
    "# Verifying database creation\n",
    "df_show = pd.read_sql(\"SHOW DATABASES\", conn)\n",
    "print(df_show)\n",
    "\n",
    "if database_name in df_show.values:\n",
    "    print(f\"Athena database '{database_name}' created successfully!\")\n",
    "else:\n",
    "    print(f\"Athena database '{database_name}' not found.\")"
   ]
  },
  {
   "cell_type": "code",
   "execution_count": null,
   "id": "26037271-377b-449a-bf4c-e2bf08101f84",
   "metadata": {},
   "outputs": [],
   "source": []
  }
 ],
 "metadata": {
  "kernelspec": {
   "display_name": "Python 3 (ipykernel)",
   "language": "python",
   "name": "python3"
  },
  "language_info": {
   "codemirror_mode": {
    "name": "ipython",
    "version": 3
   },
   "file_extension": ".py",
   "mimetype": "text/x-python",
   "name": "python",
   "nbconvert_exporter": "python",
   "pygments_lexer": "ipython3",
   "version": "3.12.9"
  }
 },
 "nbformat": 4,
 "nbformat_minor": 5
}
