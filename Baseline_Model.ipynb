{
 "cells": [
  {
   "cell_type": "code",
   "execution_count": 1,
   "id": "48d36f6b-4529-40db-b4d5-4704037c0bc0",
   "metadata": {
    "execution": {
     "iopub.execute_input": "2025-10-18T05:56:23.792364Z",
     "iopub.status.busy": "2025-10-18T05:56:23.791946Z",
     "iopub.status.idle": "2025-10-18T05:56:27.075008Z",
     "shell.execute_reply": "2025-10-18T05:56:27.074308Z",
     "shell.execute_reply.started": "2025-10-18T05:56:23.792333Z"
    }
   },
   "outputs": [
    {
     "name": "stdout",
     "output_type": "stream",
     "text": [
      "sagemaker.config INFO - Not applying SDK defaults from location: /etc/xdg/sagemaker/config.yaml\n",
      "sagemaker.config INFO - Not applying SDK defaults from location: /home/sagemaker-user/.config/sagemaker/config.yaml\n"
     ]
    }
   ],
   "source": [
    "# Importing necessary libraries\n",
    "import sagemaker\n",
    "from sagemaker.feature_store.feature_group import FeatureGroup\n",
    "import pandas as pd\n",
    "import numpy as np\n",
    "import matplotlib.pyplot as plt\n",
    "import seaborn as sns\n",
    "from sklearn.preprocessing import StandardScaler\n",
    "from sagemaker.xgboost import XGBoostModel\n",
    "from sagemaker import image_uris, estimator\n",
    "import boto3\n",
    "from sagemaker.inputs import TrainingInput\n",
    "from sagemaker.tuner import HyperparameterTuner, ContinuousParameter, IntegerParameter\n",
    "from sklearn.model_selection import train_test_split\n",
    "import os\n",
    "from sagemaker.predictor import Predictor\n",
    "from sklearn.metrics import classification_report, confusion_matrix"
   ]
  },
  {
   "cell_type": "code",
   "execution_count": 2,
   "id": "5ddc1343-6efd-4f42-9e28-ea09a30009a4",
   "metadata": {
    "execution": {
     "iopub.execute_input": "2025-10-18T05:56:27.076476Z",
     "iopub.status.busy": "2025-10-18T05:56:27.075944Z",
     "iopub.status.idle": "2025-10-18T05:56:27.830104Z",
     "shell.execute_reply": "2025-10-18T05:56:27.829360Z",
     "shell.execute_reply.started": "2025-10-18T05:56:27.076442Z"
    }
   },
   "outputs": [
    {
     "name": "stdout",
     "output_type": "stream",
     "text": [
      "Using region: us-east-1\n",
      "SageMaker role: arn:aws:iam::851725636446:role/LabRole\n"
     ]
    }
   ],
   "source": [
    "# Initializing sagemaker session and clients\n",
    "session = sagemaker.Session()\n",
    "region = session.boto_region_name\n",
    "role = sagemaker.get_execution_role()\n",
    "bucket = session.default_bucket()\n",
    "prefix = \"student-anxiety-xgb\"\n",
    "\n",
    "print(f\"Using region: {region}\")\n",
    "print(f\"SageMaker role: {role}\")"
   ]
  },
  {
   "cell_type": "code",
   "execution_count": 3,
   "id": "86c24965-0cf2-4da7-91d4-e0638adbbe67",
   "metadata": {
    "execution": {
     "iopub.execute_input": "2025-10-18T05:56:27.831323Z",
     "iopub.status.busy": "2025-10-18T05:56:27.831019Z",
     "iopub.status.idle": "2025-10-18T05:56:50.178573Z",
     "shell.execute_reply": "2025-10-18T05:56:50.177755Z",
     "shell.execute_reply.started": "2025-10-18T05:56:27.831295Z"
    }
   },
   "outputs": [
    {
     "name": "stdout",
     "output_type": "stream",
     "text": [
      "Running query for Feature Group: student-demographics-ses-fg\n",
      "Running query for Feature Group: student-performance-fg\n",
      "Running query for Feature Group: student-wellbeing-fg\n",
      "Running query for Feature Group: student-anxiety-target-fg\n",
      "\n",
      "Feature Group shapes:\n",
      "Demographics & SES: (32293, 11)\n",
      "Academic Performance: (36824, 6)\n",
      "Student Wellbeing: (25141, 13)\n",
      "Anxiety Target: (35565, 6)\n",
      "\n",
      "Final merged dataset shape: (25112, 17)\n"
     ]
    },
    {
     "data": {
      "text/html": [
       "<div>\n",
       "<style scoped>\n",
       "    .dataframe tbody tr th:only-of-type {\n",
       "        vertical-align: middle;\n",
       "    }\n",
       "\n",
       "    .dataframe tbody tr th {\n",
       "        vertical-align: top;\n",
       "    }\n",
       "\n",
       "    .dataframe thead th {\n",
       "        text-align: right;\n",
       "    }\n",
       "</style>\n",
       "<table border=\"1\" class=\"dataframe\">\n",
       "  <thead>\n",
       "    <tr style=\"text-align: right;\">\n",
       "      <th></th>\n",
       "      <th>student_id</th>\n",
       "      <th>age</th>\n",
       "      <th>grade</th>\n",
       "      <th>st004d01t</th>\n",
       "      <th>escs</th>\n",
       "      <th>homepos</th>\n",
       "      <th>wealth</th>\n",
       "      <th>academic_performance_index</th>\n",
       "      <th>belong</th>\n",
       "      <th>unfairteacher</th>\n",
       "      <th>scieeff</th>\n",
       "      <th>disclisci</th>\n",
       "      <th>motivat</th>\n",
       "      <th>pared</th>\n",
       "      <th>teachsup</th>\n",
       "      <th>emosups</th>\n",
       "      <th>anxiety_level_encoded</th>\n",
       "    </tr>\n",
       "  </thead>\n",
       "  <tbody>\n",
       "    <tr>\n",
       "      <th>0</th>\n",
       "      <td>3600001.0</td>\n",
       "      <td>16.00</td>\n",
       "      <td>0.0</td>\n",
       "      <td>Male</td>\n",
       "      <td>1.3515</td>\n",
       "      <td>1.8051</td>\n",
       "      <td>2.6171</td>\n",
       "      <td>5.537787</td>\n",
       "      <td>2.5915</td>\n",
       "      <td>6.0</td>\n",
       "      <td>1.2229</td>\n",
       "      <td>0.3363</td>\n",
       "      <td>0.1111</td>\n",
       "      <td>15.0</td>\n",
       "      <td>1.4475</td>\n",
       "      <td>1.0991</td>\n",
       "      <td>1</td>\n",
       "    </tr>\n",
       "    <tr>\n",
       "      <th>1</th>\n",
       "      <td>3600002.0</td>\n",
       "      <td>15.83</td>\n",
       "      <td>0.0</td>\n",
       "      <td>Male</td>\n",
       "      <td>1.1971</td>\n",
       "      <td>0.9351</td>\n",
       "      <td>0.9759</td>\n",
       "      <td>5.921402</td>\n",
       "      <td>-1.0536</td>\n",
       "      <td>18.0</td>\n",
       "      <td>1.2067</td>\n",
       "      <td>0.6000</td>\n",
       "      <td>1.8543</td>\n",
       "      <td>15.0</td>\n",
       "      <td>-1.1047</td>\n",
       "      <td>0.0250</td>\n",
       "      <td>2</td>\n",
       "    </tr>\n",
       "    <tr>\n",
       "      <th>2</th>\n",
       "      <td>3600004.0</td>\n",
       "      <td>16.17</td>\n",
       "      <td>0.0</td>\n",
       "      <td>Female</td>\n",
       "      <td>1.2256</td>\n",
       "      <td>1.2377</td>\n",
       "      <td>1.0320</td>\n",
       "      <td>-2.584935</td>\n",
       "      <td>0.4153</td>\n",
       "      <td>7.0</td>\n",
       "      <td>-0.0176</td>\n",
       "      <td>-0.3506</td>\n",
       "      <td>0.5952</td>\n",
       "      <td>15.0</td>\n",
       "      <td>0.9209</td>\n",
       "      <td>1.0991</td>\n",
       "      <td>2</td>\n",
       "    </tr>\n",
       "    <tr>\n",
       "      <th>3</th>\n",
       "      <td>3600005.0</td>\n",
       "      <td>15.92</td>\n",
       "      <td>0.0</td>\n",
       "      <td>Male</td>\n",
       "      <td>0.8642</td>\n",
       "      <td>1.9803</td>\n",
       "      <td>1.4158</td>\n",
       "      <td>-0.075928</td>\n",
       "      <td>0.2947</td>\n",
       "      <td>19.0</td>\n",
       "      <td>0.3000</td>\n",
       "      <td>-1.1864</td>\n",
       "      <td>-0.4982</td>\n",
       "      <td>12.0</td>\n",
       "      <td>-0.2651</td>\n",
       "      <td>-0.2495</td>\n",
       "      <td>0</td>\n",
       "    </tr>\n",
       "    <tr>\n",
       "      <th>4</th>\n",
       "      <td>3600006.0</td>\n",
       "      <td>15.92</td>\n",
       "      <td>0.0</td>\n",
       "      <td>Male</td>\n",
       "      <td>0.3490</td>\n",
       "      <td>-0.0850</td>\n",
       "      <td>0.3716</td>\n",
       "      <td>-3.949186</td>\n",
       "      <td>-1.4204</td>\n",
       "      <td>21.0</td>\n",
       "      <td>3.2775</td>\n",
       "      <td>0.0039</td>\n",
       "      <td>1.8543</td>\n",
       "      <td>14.0</td>\n",
       "      <td>-2.7195</td>\n",
       "      <td>1.0991</td>\n",
       "      <td>2</td>\n",
       "    </tr>\n",
       "  </tbody>\n",
       "</table>\n",
       "</div>"
      ],
      "text/plain": [
       "   student_id    age  grade st004d01t    escs  homepos  wealth  \\\n",
       "0   3600001.0  16.00    0.0      Male  1.3515   1.8051  2.6171   \n",
       "1   3600002.0  15.83    0.0      Male  1.1971   0.9351  0.9759   \n",
       "2   3600004.0  16.17    0.0    Female  1.2256   1.2377  1.0320   \n",
       "3   3600005.0  15.92    0.0      Male  0.8642   1.9803  1.4158   \n",
       "4   3600006.0  15.92    0.0      Male  0.3490  -0.0850  0.3716   \n",
       "\n",
       "   academic_performance_index  belong  unfairteacher  scieeff  disclisci  \\\n",
       "0                    5.537787  2.5915            6.0   1.2229     0.3363   \n",
       "1                    5.921402 -1.0536           18.0   1.2067     0.6000   \n",
       "2                   -2.584935  0.4153            7.0  -0.0176    -0.3506   \n",
       "3                   -0.075928  0.2947           19.0   0.3000    -1.1864   \n",
       "4                   -3.949186 -1.4204           21.0   3.2775     0.0039   \n",
       "\n",
       "   motivat  pared  teachsup  emosups  anxiety_level_encoded  \n",
       "0   0.1111   15.0    1.4475   1.0991                      1  \n",
       "1   1.8543   15.0   -1.1047   0.0250                      2  \n",
       "2   0.5952   15.0    0.9209   1.0991                      2  \n",
       "3  -0.4982   12.0   -0.2651  -0.2495                      0  \n",
       "4   1.8543   14.0   -2.7195   1.0991                      2  "
      ]
     },
     "execution_count": 3,
     "metadata": {},
     "output_type": "execute_result"
    }
   ],
   "source": [
    "# Retrieving data from feature store\n",
    "def load_feature_group(fg_name, record_identifier=\"student_id\", event_time=\"event_time\"):\n",
    "    fg = FeatureGroup(name=fg_name, sagemaker_session=session)\n",
    "\n",
    "    query = fg.athena_query()\n",
    "    table = query.table_name\n",
    "\n",
    "    # Running SQL query to get all data from the feature group\n",
    "    sql = f'SELECT * FROM \"{table}\"'\n",
    "    print(f\"Running query for Feature Group: {fg_name}\")\n",
    "    query.run(query_string=sql, output_location=f\"s3://{session.default_bucket()}/athena-results/\")\n",
    "    query.wait()\n",
    "\n",
    "    # Loading results into pandas\n",
    "    df = query.as_dataframe()\n",
    "\n",
    "    # Dropping duplicates by keeping latest event_time per student_id\n",
    "    df = df.sort_values(by=[record_identifier, event_time]).drop_duplicates(subset=[record_identifier], keep=\"last\")\n",
    "\n",
    "    return df\n",
    "\n",
    "\n",
    "def clean_featurestore_df(df):\n",
    "    drop_cols = [\"write_time\", \"is_deleted\", \"api_invocation_time\", \"event_time\"]\n",
    "    return df.drop(columns=[c for c in drop_cols if c in df.columns])\n",
    "\n",
    "\n",
    "# Loading each feature group\n",
    "demo_ses_df = load_feature_group(\"student-demographics-ses-fg\")\n",
    "performance_df = load_feature_group(\"student-performance-fg\")\n",
    "wellbeing_df = load_feature_group(\"student-wellbeing-fg\")\n",
    "target_df = load_feature_group(\"student-anxiety-target-fg\")\n",
    "\n",
    "print(\"\\nFeature Group shapes:\")\n",
    "print(f\"Demographics & SES: {demo_ses_df.shape}\")\n",
    "print(f\"Academic Performance: {performance_df.shape}\")\n",
    "print(f\"Student Wellbeing: {wellbeing_df.shape}\")\n",
    "print(f\"Anxiety Target: {target_df.shape}\")\n",
    "\n",
    "# Cleaning dataset by dropping metadata columns before merging\n",
    "demo_ses_df = clean_featurestore_df(demo_ses_df)\n",
    "performance_df = clean_featurestore_df(performance_df)\n",
    "wellbeing_df = clean_featurestore_df(wellbeing_df)\n",
    "target_df = clean_featurestore_df(target_df)\n",
    "\n",
    "# Joining into single dataset on \"student_id\"\n",
    "df_merged = (\n",
    "    demo_ses_df\n",
    "    .merge(performance_df, on=\"student_id\", how=\"inner\")\n",
    "    .merge(wellbeing_df, on=\"student_id\", how=\"inner\")\n",
    "    .merge(target_df, on=\"student_id\", how=\"inner\")\n",
    ")\n",
    "\n",
    "print(f\"\\nFinal merged dataset shape: {df_merged.shape}\")\n",
    "df_merged.head()"
   ]
  },
  {
   "cell_type": "code",
   "execution_count": 4,
   "id": "91486008-4fb5-4e2c-8181-b36cd93895f3",
   "metadata": {
    "execution": {
     "iopub.execute_input": "2025-10-18T05:56:50.179880Z",
     "iopub.status.busy": "2025-10-18T05:56:50.179547Z",
     "iopub.status.idle": "2025-10-18T05:56:50.191031Z",
     "shell.execute_reply": "2025-10-18T05:56:50.190334Z",
     "shell.execute_reply.started": "2025-10-18T05:56:50.179848Z"
    }
   },
   "outputs": [
    {
     "name": "stdout",
     "output_type": "stream",
     "text": [
      "Series([], dtype: object)\n"
     ]
    }
   ],
   "source": [
    "# Converting all object/string columns to categorical codes for use with XGBoost\n",
    "for col in df_merged.select_dtypes(include='object').columns:\n",
    "    df_merged[col] = df_merged[col].fillna('missing').astype('category').cat.codes\n",
    "\n",
    "# Verifying all columns are now numeric or category\n",
    "print(df_merged.dtypes[df_merged.dtypes == 'object'])  # Should be empty"
   ]
  },
  {
   "cell_type": "code",
   "execution_count": 5,
   "id": "5bab6365-a816-4517-b6a3-1778b2463bde",
   "metadata": {
    "execution": {
     "iopub.execute_input": "2025-10-18T05:56:50.193227Z",
     "iopub.status.busy": "2025-10-18T05:56:50.192999Z",
     "iopub.status.idle": "2025-10-18T05:56:50.848136Z",
     "shell.execute_reply": "2025-10-18T05:56:50.847408Z",
     "shell.execute_reply.started": "2025-10-18T05:56:50.193206Z"
    }
   },
   "outputs": [
    {
     "name": "stdout",
     "output_type": "stream",
     "text": [
      "Train: (10044, 17), Validation: (2511, 17), Test: (2511, 17), Prod: (10046, 17)\n",
      "\n",
      " Uploaded to S3:\n",
      "  Train: s3://sagemaker-us-east-1-851725636446/student-anxiety-xgb/train/train.csv\n",
      "  Validation: s3://sagemaker-us-east-1-851725636446/student-anxiety-xgb/validation/validation.csv\n",
      "  Test (no label): s3://sagemaker-us-east-1-851725636446/student-anxiety-xgb/test/test.csv\n",
      "  Production (no label): s3://sagemaker-us-east-1-851725636446/student-anxiety-xgb/production/prod.csv\n"
     ]
    }
   ],
   "source": [
    "# Preprocessing for sagemaker xgboost\n",
    "\n",
    "# Setting target column name\n",
    "TARGET_COL = \"anxiety_level_encoded\"\n",
    "\n",
    "# Ensuring merged dataframe is already loaded\n",
    "assert TARGET_COL in df_merged.columns, f\"'{TARGET_COL}' not found in df_merged columns!\"\n",
    "\n",
    "# 40% train, 10% validation, 10% test, 40% production (stratified)\n",
    "train_df, temp_df = train_test_split(df_merged, test_size=0.6, stratify=df_merged[TARGET_COL], random_state=0)\n",
    "val_df, temp2_df = train_test_split(temp_df, test_size=5/6, stratify=temp_df[TARGET_COL], random_state=0)\n",
    "test_df, prod_df = train_test_split(temp2_df, test_size=4/5, stratify=temp2_df[TARGET_COL], random_state=0)\n",
    "\n",
    "print(f\"Train: {train_df.shape}, Validation: {val_df.shape}, Test: {test_df.shape}, Prod: {prod_df.shape}\")\n",
    "\n",
    "# Converting categorical/object columns to numeric codes\n",
    "cat_cols = train_df.select_dtypes(include=[\"object\"]).columns\n",
    "for col in cat_cols:\n",
    "    all_vals = pd.concat([train_df[col], val_df[col], test_df[col], prod_df[col]], axis=0)\n",
    "    mapping = {val: i for i, val in enumerate(all_vals.unique())}\n",
    "    for df in [train_df, val_df, test_df, prod_df]:\n",
    "        df[col] = df[col].map(mapping)\n",
    "\n",
    "# Ensuring same column order \n",
    "feature_cols = [c for c in df_merged.columns if c != TARGET_COL]\n",
    "all_cols = [TARGET_COL] + feature_cols\n",
    "\n",
    "train_df = train_df[all_cols]\n",
    "val_df = val_df[all_cols]\n",
    "\n",
    "# Saving test labels before dropping from test_df\n",
    "test_labels = test_df[TARGET_COL]\n",
    "test_labels_path = \"sagemaker_csvs/test_labels.csv\"\n",
    "os.makedirs(\"sagemaker_csvs\", exist_ok=True)\n",
    "test_labels.to_csv(test_labels_path, header=False, index=False)\n",
    "\n",
    "# Dropping target from test & production sets for inference\n",
    "test_df = test_df[feature_cols]\n",
    "prod_df = prod_df[feature_cols]\n",
    "\n",
    "# Saving locally without headers\n",
    "os.makedirs(\"sagemaker_csvs\", exist_ok=True)\n",
    "\n",
    "train_path = \"sagemaker_csvs/train.csv\"\n",
    "val_path = \"sagemaker_csvs/validation.csv\"\n",
    "test_path = \"sagemaker_csvs/test.csv\"\n",
    "prod_path = \"sagemaker_csvs/prod.csv\"\n",
    "\n",
    "train_df.to_csv(train_path, header=False, index=False)\n",
    "val_df.to_csv(val_path, header=False, index=False)\n",
    "test_df.to_csv(test_path, header=False, index=False)\n",
    "prod_df.to_csv(prod_path, header=False, index=False)\n",
    "\n",
    "train_s3_uri = session.upload_data(train_path, bucket=bucket, key_prefix=f\"{prefix}/train\")\n",
    "val_s3_uri = session.upload_data(val_path, bucket=bucket, key_prefix=f\"{prefix}/validation\")\n",
    "test_s3_uri = session.upload_data(test_path, bucket=bucket, key_prefix=f\"{prefix}/test\")\n",
    "prod_s3_uri = session.upload_data(prod_path, bucket=bucket, key_prefix=f\"{prefix}/production\")\n",
    "\n",
    "print(\"\\n Uploaded to S3:\")\n",
    "print(f\"  Train: {train_s3_uri}\")\n",
    "print(f\"  Validation: {val_s3_uri}\")\n",
    "print(f\"  Test (no label): {test_s3_uri}\")\n",
    "print(f\"  Production (no label): {prod_s3_uri}\")"
   ]
  },
  {
   "cell_type": "code",
   "execution_count": 6,
   "id": "7fe24234-0130-4504-8937-950942e854a8",
   "metadata": {
    "execution": {
     "iopub.execute_input": "2025-10-18T05:56:50.849168Z",
     "iopub.status.busy": "2025-10-18T05:56:50.848886Z",
     "iopub.status.idle": "2025-10-18T05:56:50.953158Z",
     "shell.execute_reply": "2025-10-18T05:56:50.952559Z",
     "shell.execute_reply.started": "2025-10-18T05:56:50.849139Z"
    }
   },
   "outputs": [],
   "source": [
    "# Defining baseline XGBoost estimator\n",
    "xgboost_image = image_uris.retrieve(region=region, framework='xgboost', version='1.5-1')\n",
    "\n",
    "xgb_estimator = estimator.Estimator(\n",
    "    image_uri=xgboost_image,\n",
    "    role=role,\n",
    "    instance_count=1,\n",
    "    instance_type=\"ml.m5.xlarge\",\n",
    "    volume_size=5,\n",
    "    max_run=3600,\n",
    "    sagemaker_session=session\n",
    ")\n",
    "\n",
    "# Baseline hyperparameters\n",
    "xgb_estimator.set_hyperparameters(\n",
    "    objective=\"multi:softprob\",\n",
    "    num_class=len(df_merged[TARGET_COL].unique()),\n",
    "    eval_metric=\"mlogloss\",\n",
    "    num_round=100,\n",
    "    max_depth=5,\n",
    "    eta=0.1,\n",
    "    subsample=0.8,\n",
    "    colsample_bytree=0.8\n",
    ")"
   ]
  },
  {
   "cell_type": "code",
   "execution_count": 7,
   "id": "fbb5c912-f047-41c5-a5fd-9d88f1dab974",
   "metadata": {
    "execution": {
     "iopub.execute_input": "2025-10-18T05:56:50.954232Z",
     "iopub.status.busy": "2025-10-18T05:56:50.953933Z",
     "iopub.status.idle": "2025-10-18T05:59:37.788220Z",
     "shell.execute_reply": "2025-10-18T05:59:37.787573Z",
     "shell.execute_reply.started": "2025-10-18T05:56:50.954203Z"
    }
   },
   "outputs": [
    {
     "name": "stderr",
     "output_type": "stream",
     "text": [
      "INFO:sagemaker:Creating training-job with name: sagemaker-xgboost-2025-10-18-05-56-50-956\n"
     ]
    },
    {
     "name": "stdout",
     "output_type": "stream",
     "text": [
      "2025-10-18 05:56:52 Starting - Starting the training job...\n",
      "2025-10-18 05:57:06 Starting - Preparing the instances for training...\n",
      "2025-10-18 05:57:54 Downloading - Downloading the training image......\n",
      "2025-10-18 05:58:45 Training - Training image download completed. Training in progress..\u001b[34m/miniconda3/lib/python3.8/site-packages/xgboost/compat.py:36: FutureWarning: pandas.Int64Index is deprecated and will be removed from pandas in a future version. Use pandas.Index with the appropriate dtype instead.\n",
      "  from pandas import MultiIndex, Int64Index\u001b[0m\n",
      "\u001b[34m[2025-10-18 05:58:52.376 ip-10-0-236-181.ec2.internal:7 INFO utils.py:28] RULE_JOB_STOP_SIGNAL_FILENAME: None\u001b[0m\n",
      "\u001b[34m[2025-10-18 05:58:52.397 ip-10-0-236-181.ec2.internal:7 INFO profiler_config_parser.py:111] User has disabled profiler.\u001b[0m\n",
      "\u001b[34m[2025-10-18:05:58:52:INFO] Imported framework sagemaker_xgboost_container.training\u001b[0m\n",
      "\u001b[34m[2025-10-18:05:58:52:INFO] Failed to parse hyperparameter eval_metric value mlogloss to Json.\u001b[0m\n",
      "\u001b[34mReturning the value itself\u001b[0m\n",
      "\u001b[34m[2025-10-18:05:58:52:INFO] Failed to parse hyperparameter objective value multi:softprob to Json.\u001b[0m\n",
      "\u001b[34mReturning the value itself\u001b[0m\n",
      "\u001b[34m[2025-10-18:05:58:52:INFO] No GPUs detected (normal if no gpus installed)\u001b[0m\n",
      "\u001b[34m[2025-10-18:05:58:52:INFO] Running XGBoost Sagemaker in algorithm mode\u001b[0m\n",
      "\u001b[34m[2025-10-18:05:58:52:INFO] Determined 0 GPU(s) available on the instance.\u001b[0m\n",
      "\u001b[34m[2025-10-18:05:58:52:INFO] Determined delimiter of CSV input is ','\u001b[0m\n",
      "\u001b[34m[2025-10-18:05:58:52:INFO] Determined delimiter of CSV input is ','\u001b[0m\n",
      "\u001b[34m[2025-10-18:05:58:52:INFO] files path: /opt/ml/input/data/train\u001b[0m\n",
      "\u001b[34m[2025-10-18:05:58:52:INFO] Determined delimiter of CSV input is ','\u001b[0m\n",
      "\u001b[34m[2025-10-18:05:58:52:INFO] files path: /opt/ml/input/data/validation\u001b[0m\n",
      "\u001b[34m[2025-10-18:05:58:52:INFO] Determined delimiter of CSV input is ','\u001b[0m\n",
      "\u001b[34m[2025-10-18:05:58:52:INFO] Single node training.\u001b[0m\n",
      "\u001b[34m[2025-10-18:05:58:52:INFO] Train matrix has 10044 rows and 16 columns\u001b[0m\n",
      "\u001b[34m[2025-10-18:05:58:52:INFO] Validation matrix has 2511 rows\u001b[0m\n",
      "\u001b[34m[2025-10-18 05:58:52.794 ip-10-0-236-181.ec2.internal:7 INFO json_config.py:92] Creating hook from json_config at /opt/ml/input/config/debughookconfig.json.\u001b[0m\n",
      "\u001b[34m[2025-10-18 05:58:52.795 ip-10-0-236-181.ec2.internal:7 INFO hook.py:206] tensorboard_dir has not been set for the hook. SMDebug will not be exporting tensorboard summaries.\u001b[0m\n",
      "\u001b[34m[2025-10-18 05:58:52.795 ip-10-0-236-181.ec2.internal:7 INFO hook.py:259] Saving to /opt/ml/output/tensors\u001b[0m\n",
      "\u001b[34m[2025-10-18 05:58:52.796 ip-10-0-236-181.ec2.internal:7 INFO state_store.py:77] The checkpoint config file /opt/ml/input/config/checkpointconfig.json does not exist.\u001b[0m\n",
      "\u001b[34m[2025-10-18:05:58:52:INFO] Debug hook created from config\u001b[0m\n",
      "\u001b[34m[2025-10-18 05:58:52.844 ip-10-0-236-181.ec2.internal:7 INFO hook.py:427] Monitoring the collections: metrics\u001b[0m\n",
      "\u001b[34m[2025-10-18 05:58:52.847 ip-10-0-236-181.ec2.internal:7 INFO hook.py:491] Hook is writing from the hook with pid: 7\u001b[0m\n",
      "\u001b[34m[0]#011train-mlogloss:1.08687#011validation-mlogloss:1.09025\u001b[0m\n",
      "\u001b[34m[1]#011train-mlogloss:1.07454#011validation-mlogloss:1.08046\u001b[0m\n",
      "\u001b[34m[2]#011train-mlogloss:1.06492#011validation-mlogloss:1.07403\u001b[0m\n",
      "\u001b[34m[3]#011train-mlogloss:1.05456#011validation-mlogloss:1.06633\u001b[0m\n",
      "\u001b[34m[4]#011train-mlogloss:1.04691#011validation-mlogloss:1.06146\u001b[0m\n",
      "\u001b[34m[5]#011train-mlogloss:1.03851#011validation-mlogloss:1.05566\u001b[0m\n",
      "\u001b[34m[6]#011train-mlogloss:1.03062#011validation-mlogloss:1.05076\u001b[0m\n",
      "\u001b[34m[7]#011train-mlogloss:1.02374#011validation-mlogloss:1.04637\u001b[0m\n",
      "\u001b[34m[8]#011train-mlogloss:1.01679#011validation-mlogloss:1.04221\u001b[0m\n",
      "\u001b[34m[9]#011train-mlogloss:1.01057#011validation-mlogloss:1.03845\u001b[0m\n",
      "\u001b[34m[10]#011train-mlogloss:1.00459#011validation-mlogloss:1.03454\u001b[0m\n",
      "\u001b[34m[11]#011train-mlogloss:0.99903#011validation-mlogloss:1.03218\u001b[0m\n",
      "\u001b[34m[12]#011train-mlogloss:0.99359#011validation-mlogloss:1.02915\u001b[0m\n",
      "\u001b[34m[13]#011train-mlogloss:0.98857#011validation-mlogloss:1.02728\u001b[0m\n",
      "\u001b[34m[14]#011train-mlogloss:0.98386#011validation-mlogloss:1.02481\u001b[0m\n",
      "\u001b[34m[15]#011train-mlogloss:0.97942#011validation-mlogloss:1.02310\u001b[0m\n",
      "\u001b[34m[16]#011train-mlogloss:0.97520#011validation-mlogloss:1.02136\u001b[0m\n",
      "\u001b[34m[17]#011train-mlogloss:0.97128#011validation-mlogloss:1.01986\u001b[0m\n",
      "\u001b[34m[18]#011train-mlogloss:0.96747#011validation-mlogloss:1.01828\u001b[0m\n",
      "\u001b[34m[19]#011train-mlogloss:0.96386#011validation-mlogloss:1.01700\u001b[0m\n",
      "\u001b[34m[20]#011train-mlogloss:0.96045#011validation-mlogloss:1.01545\u001b[0m\n",
      "\u001b[34m[21]#011train-mlogloss:0.95684#011validation-mlogloss:1.01472\u001b[0m\n",
      "\u001b[34m[22]#011train-mlogloss:0.95410#011validation-mlogloss:1.01398\u001b[0m\n",
      "\u001b[34m[23]#011train-mlogloss:0.95100#011validation-mlogloss:1.01269\u001b[0m\n",
      "\u001b[34m[24]#011train-mlogloss:0.94797#011validation-mlogloss:1.01178\u001b[0m\n",
      "\u001b[34m[25]#011train-mlogloss:0.94486#011validation-mlogloss:1.01131\u001b[0m\n",
      "\u001b[34m[26]#011train-mlogloss:0.94215#011validation-mlogloss:1.01054\u001b[0m\n",
      "\u001b[34m[27]#011train-mlogloss:0.93938#011validation-mlogloss:1.00968\u001b[0m\n",
      "\u001b[34m[28]#011train-mlogloss:0.93645#011validation-mlogloss:1.00932\u001b[0m\n",
      "\u001b[34m[29]#011train-mlogloss:0.93375#011validation-mlogloss:1.00900\u001b[0m\n",
      "\u001b[34m[30]#011train-mlogloss:0.93127#011validation-mlogloss:1.00846\u001b[0m\n",
      "\u001b[34m[31]#011train-mlogloss:0.92839#011validation-mlogloss:1.00798\u001b[0m\n",
      "\u001b[34m[32]#011train-mlogloss:0.92590#011validation-mlogloss:1.00780\u001b[0m\n",
      "\u001b[34m[33]#011train-mlogloss:0.92326#011validation-mlogloss:1.00790\u001b[0m\n",
      "\u001b[34m[34]#011train-mlogloss:0.92103#011validation-mlogloss:1.00765\u001b[0m\n",
      "\u001b[34m[35]#011train-mlogloss:0.91845#011validation-mlogloss:1.00743\u001b[0m\n",
      "\u001b[34m[36]#011train-mlogloss:0.91624#011validation-mlogloss:1.00721\u001b[0m\n",
      "\u001b[34m[37]#011train-mlogloss:0.91433#011validation-mlogloss:1.00729\u001b[0m\n",
      "\u001b[34m[38]#011train-mlogloss:0.91237#011validation-mlogloss:1.00702\u001b[0m\n",
      "\u001b[34m[39]#011train-mlogloss:0.90998#011validation-mlogloss:1.00670\u001b[0m\n",
      "\u001b[34m[40]#011train-mlogloss:0.90814#011validation-mlogloss:1.00627\u001b[0m\n",
      "\u001b[34m[41]#011train-mlogloss:0.90609#011validation-mlogloss:1.00579\u001b[0m\n",
      "\u001b[34m[42]#011train-mlogloss:0.90404#011validation-mlogloss:1.00547\u001b[0m\n",
      "\u001b[34m[43]#011train-mlogloss:0.90190#011validation-mlogloss:1.00531\u001b[0m\n",
      "\u001b[34m[44]#011train-mlogloss:0.89997#011validation-mlogloss:1.00556\u001b[0m\n",
      "\u001b[34m[45]#011train-mlogloss:0.89776#011validation-mlogloss:1.00567\u001b[0m\n",
      "\u001b[34m[46]#011train-mlogloss:0.89579#011validation-mlogloss:1.00600\u001b[0m\n",
      "\u001b[34m[47]#011train-mlogloss:0.89402#011validation-mlogloss:1.00584\u001b[0m\n",
      "\u001b[34m[48]#011train-mlogloss:0.89225#011validation-mlogloss:1.00635\u001b[0m\n",
      "\u001b[34m[49]#011train-mlogloss:0.89063#011validation-mlogloss:1.00643\u001b[0m\n",
      "\u001b[34m[50]#011train-mlogloss:0.88904#011validation-mlogloss:1.00645\u001b[0m\n",
      "\u001b[34m[51]#011train-mlogloss:0.88760#011validation-mlogloss:1.00666\u001b[0m\n",
      "\u001b[34m[52]#011train-mlogloss:0.88565#011validation-mlogloss:1.00673\u001b[0m\n",
      "\u001b[34m[53]#011train-mlogloss:0.88403#011validation-mlogloss:1.00684\u001b[0m\n",
      "\u001b[34m[54]#011train-mlogloss:0.88268#011validation-mlogloss:1.00687\u001b[0m\n",
      "\u001b[34m[55]#011train-mlogloss:0.88123#011validation-mlogloss:1.00690\u001b[0m\n",
      "\u001b[34m[56]#011train-mlogloss:0.88009#011validation-mlogloss:1.00676\u001b[0m\n",
      "\u001b[34m[57]#011train-mlogloss:0.87850#011validation-mlogloss:1.00703\u001b[0m\n",
      "\u001b[34m[58]#011train-mlogloss:0.87686#011validation-mlogloss:1.00721\u001b[0m\n",
      "\u001b[34m[59]#011train-mlogloss:0.87480#011validation-mlogloss:1.00733\u001b[0m\n",
      "\u001b[34m[60]#011train-mlogloss:0.87312#011validation-mlogloss:1.00733\u001b[0m\n",
      "\u001b[34m[61]#011train-mlogloss:0.87150#011validation-mlogloss:1.00720\u001b[0m\n",
      "\u001b[34m[62]#011train-mlogloss:0.86957#011validation-mlogloss:1.00735\u001b[0m\n",
      "\u001b[34m[63]#011train-mlogloss:0.86819#011validation-mlogloss:1.00721\u001b[0m\n",
      "\u001b[34m[64]#011train-mlogloss:0.86659#011validation-mlogloss:1.00726\u001b[0m\n",
      "\u001b[34m[65]#011train-mlogloss:0.86472#011validation-mlogloss:1.00759\u001b[0m\n",
      "\u001b[34m[66]#011train-mlogloss:0.86301#011validation-mlogloss:1.00757\u001b[0m\n",
      "\u001b[34m[67]#011train-mlogloss:0.86140#011validation-mlogloss:1.00724\u001b[0m\n",
      "\u001b[34m[68]#011train-mlogloss:0.85995#011validation-mlogloss:1.00751\u001b[0m\n",
      "\u001b[34m[69]#011train-mlogloss:0.85855#011validation-mlogloss:1.00757\u001b[0m\n",
      "\u001b[34m[70]#011train-mlogloss:0.85697#011validation-mlogloss:1.00741\u001b[0m\n",
      "\u001b[34m[71]#011train-mlogloss:0.85542#011validation-mlogloss:1.00722\u001b[0m\n",
      "\u001b[34m[72]#011train-mlogloss:0.85398#011validation-mlogloss:1.00716\u001b[0m\n",
      "\u001b[34m[73]#011train-mlogloss:0.85249#011validation-mlogloss:1.00699\u001b[0m\n",
      "\u001b[34m[74]#011train-mlogloss:0.85103#011validation-mlogloss:1.00715\u001b[0m\n",
      "\u001b[34m[75]#011train-mlogloss:0.84954#011validation-mlogloss:1.00732\u001b[0m\n",
      "\u001b[34m[76]#011train-mlogloss:0.84829#011validation-mlogloss:1.00739\u001b[0m\n",
      "\u001b[34m[77]#011train-mlogloss:0.84689#011validation-mlogloss:1.00718\u001b[0m\n",
      "\u001b[34m[78]#011train-mlogloss:0.84519#011validation-mlogloss:1.00703\u001b[0m\n",
      "\u001b[34m[79]#011train-mlogloss:0.84412#011validation-mlogloss:1.00722\u001b[0m\n",
      "\u001b[34m[80]#011train-mlogloss:0.84222#011validation-mlogloss:1.00693\u001b[0m\n",
      "\u001b[34m[81]#011train-mlogloss:0.84120#011validation-mlogloss:1.00681\u001b[0m\n",
      "\u001b[34m[82]#011train-mlogloss:0.83956#011validation-mlogloss:1.00689\u001b[0m\n",
      "\u001b[34m[83]#011train-mlogloss:0.83793#011validation-mlogloss:1.00683\u001b[0m\n",
      "\u001b[34m[84]#011train-mlogloss:0.83658#011validation-mlogloss:1.00699\u001b[0m\n",
      "\u001b[34m[85]#011train-mlogloss:0.83492#011validation-mlogloss:1.00679\u001b[0m\n",
      "\u001b[34m[86]#011train-mlogloss:0.83357#011validation-mlogloss:1.00675\u001b[0m\n",
      "\u001b[34m[87]#011train-mlogloss:0.83228#011validation-mlogloss:1.00709\u001b[0m\n",
      "\u001b[34m[88]#011train-mlogloss:0.83091#011validation-mlogloss:1.00703\u001b[0m\n",
      "\u001b[34m[89]#011train-mlogloss:0.82962#011validation-mlogloss:1.00691\u001b[0m\n",
      "\u001b[34m[90]#011train-mlogloss:0.82805#011validation-mlogloss:1.00715\u001b[0m\n",
      "\u001b[34m[91]#011train-mlogloss:0.82621#011validation-mlogloss:1.00702\u001b[0m\n",
      "\u001b[34m[92]#011train-mlogloss:0.82462#011validation-mlogloss:1.00737\u001b[0m\n",
      "\u001b[34m[93]#011train-mlogloss:0.82298#011validation-mlogloss:1.00749\u001b[0m\n",
      "\u001b[34m[94]#011train-mlogloss:0.82157#011validation-mlogloss:1.00737\u001b[0m\n",
      "\u001b[34m[95]#011train-mlogloss:0.81996#011validation-mlogloss:1.00732\u001b[0m\n",
      "\u001b[34m[96]#011train-mlogloss:0.81888#011validation-mlogloss:1.00725\u001b[0m\n",
      "\u001b[34m[97]#011train-mlogloss:0.81746#011validation-mlogloss:1.00737\u001b[0m\n",
      "\u001b[34m[98]#011train-mlogloss:0.81638#011validation-mlogloss:1.00758\u001b[0m\n",
      "\u001b[34m[99]#011train-mlogloss:0.81500#011validation-mlogloss:1.00760\u001b[0m\n",
      "\n",
      "2025-10-18 05:59:13 Uploading - Uploading generated training model\n",
      "2025-10-18 05:59:13 Completed - Training job completed\n",
      "Training seconds: 105\n",
      "Billable seconds: 105\n"
     ]
    }
   ],
   "source": [
    "# Launching baseline training job\n",
    "xgb_estimator.fit(\n",
    "    {\"train\": TrainingInput(train_s3_uri, content_type=\"csv\"),\n",
    "     \"validation\": TrainingInput(val_s3_uri, content_type=\"csv\")},\n",
    "    wait=True\n",
    ")"
   ]
  },
  {
   "cell_type": "code",
   "execution_count": 8,
   "id": "330532c4-d4a3-4b15-a1c3-6d9097b04977",
   "metadata": {
    "execution": {
     "iopub.execute_input": "2025-10-18T05:59:37.789300Z",
     "iopub.status.busy": "2025-10-18T05:59:37.788924Z",
     "iopub.status.idle": "2025-10-18T06:03:09.942640Z",
     "shell.execute_reply": "2025-10-18T06:03:09.941955Z",
     "shell.execute_reply.started": "2025-10-18T05:59:37.789271Z"
    }
   },
   "outputs": [
    {
     "name": "stderr",
     "output_type": "stream",
     "text": [
      "INFO:sagemaker:Creating model with name: sagemaker-xgboost-2025-10-18-05-59-37-790\n",
      "INFO:sagemaker:Creating endpoint-config with name sagemaker-xgboost-2025-10-18-05-59-37-790\n",
      "INFO:sagemaker:Creating endpoint with name sagemaker-xgboost-2025-10-18-05-59-37-790\n"
     ]
    },
    {
     "name": "stdout",
     "output_type": "stream",
     "text": [
      "------!"
     ]
    }
   ],
   "source": [
    "baseline_predictor = xgb_estimator.deploy(\n",
    "    initial_instance_count=1,\n",
    "    instance_type=\"ml.m5.xlarge\"\n",
    ")"
   ]
  },
  {
   "cell_type": "code",
   "execution_count": 9,
   "id": "74fb3f6d-d503-449f-b652-a5bf026ffa84",
   "metadata": {
    "execution": {
     "iopub.execute_input": "2025-10-18T06:03:09.943512Z",
     "iopub.status.busy": "2025-10-18T06:03:09.943298Z",
     "iopub.status.idle": "2025-10-18T06:11:11.119587Z",
     "shell.execute_reply": "2025-10-18T06:11:11.118748Z",
     "shell.execute_reply.started": "2025-10-18T06:03:09.943493Z"
    }
   },
   "outputs": [
    {
     "name": "stderr",
     "output_type": "stream",
     "text": [
      "INFO:sagemaker:Creating hyperparameter tuning job with name: sagemaker-xgboost-251018-0603\n"
     ]
    },
    {
     "name": "stdout",
     "output_type": "stream",
     "text": [
      ".............................................................................................!\n"
     ]
    }
   ],
   "source": [
    "# Creating and running hyperparameter tuning job\n",
    "hyperparameter_ranges = {\n",
    "    \"eta\": ContinuousParameter(0.01, 0.3),\n",
    "    \"max_depth\": IntegerParameter(3, 10),\n",
    "    \"subsample\": ContinuousParameter(0.5, 1.0),\n",
    "    \"colsample_bytree\": ContinuousParameter(0.5, 1.0),\n",
    "    \"min_child_weight\": IntegerParameter(1, 10),\n",
    "    \"gamma\": ContinuousParameter(0, 0.5)\n",
    "}\n",
    "\n",
    "objective_metric_name = \"validation:mlogloss\"\n",
    "\n",
    "tuner = HyperparameterTuner(\n",
    "    estimator=xgb_estimator,\n",
    "    objective_metric_name=objective_metric_name,\n",
    "    hyperparameter_ranges=hyperparameter_ranges,\n",
    "    max_jobs=20,\n",
    "    max_parallel_jobs=3,\n",
    "    objective_type=\"Minimize\"\n",
    ")\n",
    "\n",
    "tuner.fit(\n",
    "    {\"train\": TrainingInput(train_s3_uri, content_type=\"csv\"),\n",
    "     \"validation\": TrainingInput(val_s3_uri, content_type=\"csv\")},\n",
    "    include_cls_metadata=False,\n",
    "    wait=True\n",
    ")"
   ]
  },
  {
   "cell_type": "code",
   "execution_count": 10,
   "id": "94902bb3-cc58-4883-b7b5-f3c8217f065b",
   "metadata": {
    "execution": {
     "iopub.execute_input": "2025-10-18T06:11:11.120746Z",
     "iopub.status.busy": "2025-10-18T06:11:11.120261Z",
     "iopub.status.idle": "2025-10-18T06:14:48.550703Z",
     "shell.execute_reply": "2025-10-18T06:14:48.549945Z",
     "shell.execute_reply.started": "2025-10-18T06:11:11.120716Z"
    }
   },
   "outputs": [
    {
     "name": "stdout",
     "output_type": "stream",
     "text": [
      "\n",
      "2025-10-18 06:08:52 Starting - Found matching resource for reuse\n",
      "2025-10-18 06:08:52 Downloading - Downloading the training image\n",
      "2025-10-18 06:08:52 Training - Training image download completed. Training in progress.\n",
      "2025-10-18 06:08:52 Uploading - Uploading generated training model\n",
      "2025-10-18 06:08:52 Completed - Resource reused by training job: sagemaker-xgboost-251018-0603-014-af6a1477"
     ]
    },
    {
     "name": "stderr",
     "output_type": "stream",
     "text": [
      "INFO:sagemaker:Creating model with name: sagemaker-xgboost-2025-10-18-06-11-16-382\n"
     ]
    },
    {
     "name": "stdout",
     "output_type": "stream",
     "text": [
      "\n"
     ]
    },
    {
     "name": "stderr",
     "output_type": "stream",
     "text": [
      "INFO:sagemaker:Creating endpoint-config with name sagemaker-xgboost-2025-10-18-06-11-16-382\n",
      "INFO:sagemaker:Creating endpoint with name sagemaker-xgboost-2025-10-18-06-11-16-382\n"
     ]
    },
    {
     "name": "stdout",
     "output_type": "stream",
     "text": [
      "------!"
     ]
    }
   ],
   "source": [
    "# Creating tuned model\n",
    "best_estimator = tuner.best_estimator()\n",
    "best_predictor = best_estimator.deploy(\n",
    "    initial_instance_count=1,\n",
    "    instance_type=\"ml.m5.xlarge\"\n",
    ")"
   ]
  },
  {
   "cell_type": "code",
   "execution_count": 11,
   "id": "29ed400c-a312-4b38-93d4-b333bad20001",
   "metadata": {
    "execution": {
     "iopub.execute_input": "2025-10-18T06:14:48.551852Z",
     "iopub.status.busy": "2025-10-18T06:14:48.551552Z",
     "iopub.status.idle": "2025-10-18T06:14:49.089273Z",
     "shell.execute_reply": "2025-10-18T06:14:49.088603Z",
     "shell.execute_reply.started": "2025-10-18T06:14:48.551824Z"
    }
   },
   "outputs": [],
   "source": [
    "# Running predictions on test set\n",
    "test_data = pd.read_csv(\"sagemaker_csvs/test.csv\", header=None)\n",
    "\n",
    "# Converting DataFrame to CSV string (for single-record prediction)\n",
    "csv_data = test_data.to_csv(header=False, index=False).strip()\n",
    "\n",
    "# Baseline predictions\n",
    "baseline_preds_raw = baseline_predictor.predict(csv_data, initial_args={\"ContentType\": \"text/csv\"})\n",
    "# Tuned predictions\n",
    "tuned_preds_raw = best_predictor.predict(csv_data, initial_args={\"ContentType\": \"text/csv\"})"
   ]
  },
  {
   "cell_type": "code",
   "execution_count": 12,
   "id": "ffed0259-f626-42e7-b419-9ad8541b8eee",
   "metadata": {
    "execution": {
     "iopub.execute_input": "2025-10-18T06:14:49.090467Z",
     "iopub.status.busy": "2025-10-18T06:14:49.090164Z",
     "iopub.status.idle": "2025-10-18T06:14:49.130267Z",
     "shell.execute_reply": "2025-10-18T06:14:49.129455Z",
     "shell.execute_reply.started": "2025-10-18T06:14:49.090439Z"
    }
   },
   "outputs": [
    {
     "name": "stdout",
     "output_type": "stream",
     "text": [
      "Baseline model report:\n",
      "               precision    recall  f1-score   support\n",
      "\n",
      "           0       0.33      0.32      0.32       821\n",
      "           1       0.33      0.34      0.33       846\n",
      "           2       0.33      0.32      0.33       843\n",
      "\n",
      "    accuracy                           0.33      2510\n",
      "   macro avg       0.33      0.33      0.33      2510\n",
      "weighted avg       0.33      0.33      0.33      2510\n",
      "\n",
      "Tuned model report:\n",
      "               precision    recall  f1-score   support\n",
      "\n",
      "           0       0.32      0.33      0.33       821\n",
      "           1       0.33      0.35      0.34       846\n",
      "           2       0.32      0.30      0.31       843\n",
      "\n",
      "    accuracy                           0.32      2510\n",
      "   macro avg       0.32      0.32      0.32      2510\n",
      "weighted avg       0.32      0.32      0.32      2510\n",
      "\n"
     ]
    }
   ],
   "source": [
    "# Evaluating metrics for the models\n",
    "\n",
    "# Decoding from bytes to string if needed\n",
    "baseline_preds_str = baseline_preds_raw.decode(\"utf-8\") if isinstance(baseline_preds_raw, bytes) else baseline_preds_raw\n",
    "tuned_preds_str = tuned_preds_raw.decode(\"utf-8\") if isinstance(tuned_preds_raw, bytes) else tuned_preds_raw\n",
    "\n",
    "# Converting CSV string to numpy array\n",
    "baseline_preds = np.array([list(map(float, line.split(\",\"))) for line in baseline_preds_str.strip().split(\"\\n\")])\n",
    "tuned_preds = np.array([list(map(float, line.split(\",\"))) for line in tuned_preds_str.strip().split(\"\\n\")])\n",
    "\n",
    "# Taking argmax to get predicted class labels\n",
    "baseline_pred_labels = np.argmax(baseline_preds, axis=1)\n",
    "tuned_pred_labels = np.argmax(tuned_preds, axis=1)\n",
    "\n",
    "y_test = pd.read_csv(\"sagemaker_csvs/test_labels.csv\")\n",
    "\n",
    "# Aligning lengths\n",
    "min_len = min(len(y_test), len(baseline_pred_labels))\n",
    "y_test = y_test[:min_len]\n",
    "baseline_pred_labels = baseline_pred_labels[:min_len]\n",
    "tuned_pred_labels = tuned_pred_labels[:min_len]\n",
    "\n",
    "# Classification reports\n",
    "print(\"Baseline model report:\\n\", classification_report(y_test, baseline_pred_labels))\n",
    "print(\"Tuned model report:\\n\", classification_report(y_test, tuned_pred_labels))\n"
   ]
  },
  {
   "cell_type": "code",
   "execution_count": null,
   "id": "a26d0eb2-f0ee-4690-97be-4986883f4122",
   "metadata": {},
   "outputs": [],
   "source": []
  }
 ],
 "metadata": {
  "kernelspec": {
   "display_name": "Python 3 (ipykernel)",
   "language": "python",
   "name": "python3"
  },
  "language_info": {
   "codemirror_mode": {
    "name": "ipython",
    "version": 3
   },
   "file_extension": ".py",
   "mimetype": "text/x-python",
   "name": "python",
   "nbconvert_exporter": "python",
   "pygments_lexer": "ipython3",
   "version": "3.12.9"
  }
 },
 "nbformat": 4,
 "nbformat_minor": 5
}
