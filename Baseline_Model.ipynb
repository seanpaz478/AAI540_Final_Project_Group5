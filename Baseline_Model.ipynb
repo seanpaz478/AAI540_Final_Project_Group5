{
 "cells": [
  {
   "cell_type": "code",
   "execution_count": 14,
   "id": "48d36f6b-4529-40db-b4d5-4704037c0bc0",
   "metadata": {
    "execution": {
     "iopub.execute_input": "2025-10-15T02:41:25.192753Z",
     "iopub.status.busy": "2025-10-15T02:41:25.192486Z",
     "iopub.status.idle": "2025-10-15T02:41:25.197004Z",
     "shell.execute_reply": "2025-10-15T02:41:25.196254Z",
     "shell.execute_reply.started": "2025-10-15T02:41:25.192732Z"
    }
   },
   "outputs": [],
   "source": [
    "# Importing necessary libraries\n",
    "import boto3\n",
    "import sagemaker\n",
    "from sagemaker.feature_store.feature_group import FeatureGroup\n",
    "from sagemaker.feature_store.feature_store import FeatureStore\n",
    "import pandas as pd\n",
    "import numpy as np\n",
    "import matplotlib.pyplot as plt\n",
    "import seaborn as sns\n",
    "from sklearn.model_selection import train_test_split, RandomizedSearchCV\n",
    "from sklearn.preprocessing import StandardScaler\n",
    "from sklearn.metrics import classification_report, confusion_matrix, accuracy_score, ConfusionMatrixDisplay\n",
    "from sklearn.linear_model import LogisticRegression\n",
    "from sklearn.ensemble import RandomForestClassifier\n",
    "import time\n",
    "import xgboost as xgb\n",
    "from sagemaker.xgboost import XGBoostModel"
   ]
  },
  {
   "cell_type": "code",
   "execution_count": 2,
   "id": "5ddc1343-6efd-4f42-9e28-ea09a30009a4",
   "metadata": {
    "execution": {
     "iopub.execute_input": "2025-10-15T02:34:41.307315Z",
     "iopub.status.busy": "2025-10-15T02:34:41.306873Z",
     "iopub.status.idle": "2025-10-15T02:34:41.949744Z",
     "shell.execute_reply": "2025-10-15T02:34:41.949001Z",
     "shell.execute_reply.started": "2025-10-15T02:34:41.307290Z"
    }
   },
   "outputs": [
    {
     "name": "stdout",
     "output_type": "stream",
     "text": [
      "Using region: us-east-1\n",
      "SageMaker role: arn:aws:iam::851725636446:role/LabRole\n"
     ]
    }
   ],
   "source": [
    "# Initializing sagemaker session and clients\n",
    "sagemaker_session = sagemaker.Session()\n",
    "region = sagemaker_session.boto_region_name\n",
    "role = sagemaker.get_execution_role()\n",
    "s3 = boto3.client(\"s3\", region_name=region)\n",
    "sagemaker_client = boto3.client(\"sagemaker\", region_name=region)\n",
    "featurestore_runtime = boto3.client(\"sagemaker-featurestore-runtime\", region_name=region)\n",
    "\n",
    "print(f\"Using region: {region}\")\n",
    "print(f\"SageMaker role: {role}\")"
   ]
  },
  {
   "cell_type": "code",
   "execution_count": 3,
   "id": "86c24965-0cf2-4da7-91d4-e0638adbbe67",
   "metadata": {
    "execution": {
     "iopub.execute_input": "2025-10-15T02:34:43.395026Z",
     "iopub.status.busy": "2025-10-15T02:34:43.394748Z",
     "iopub.status.idle": "2025-10-15T02:35:06.303362Z",
     "shell.execute_reply": "2025-10-15T02:35:06.302730Z",
     "shell.execute_reply.started": "2025-10-15T02:34:43.395005Z"
    }
   },
   "outputs": [
    {
     "name": "stdout",
     "output_type": "stream",
     "text": [
      "Running query for Feature Group: student-demographics-ses-fg\n",
      "Running query for Feature Group: student-performance-fg\n",
      "Running query for Feature Group: student-wellbeing-fg\n",
      "Running query for Feature Group: student-anxiety-target-fg\n",
      "\n",
      "Feature Group shapes:\n",
      "Demographics & SES: (32293, 11)\n",
      "Academic Performance: (36824, 6)\n",
      "Student Wellbeing: (25141, 13)\n",
      "Anxiety Target: (35565, 6)\n",
      "\n",
      "Final merged dataset shape: (25112, 17)\n"
     ]
    },
    {
     "data": {
      "text/html": [
       "<div>\n",
       "<style scoped>\n",
       "    .dataframe tbody tr th:only-of-type {\n",
       "        vertical-align: middle;\n",
       "    }\n",
       "\n",
       "    .dataframe tbody tr th {\n",
       "        vertical-align: top;\n",
       "    }\n",
       "\n",
       "    .dataframe thead th {\n",
       "        text-align: right;\n",
       "    }\n",
       "</style>\n",
       "<table border=\"1\" class=\"dataframe\">\n",
       "  <thead>\n",
       "    <tr style=\"text-align: right;\">\n",
       "      <th></th>\n",
       "      <th>student_id</th>\n",
       "      <th>age</th>\n",
       "      <th>grade</th>\n",
       "      <th>st004d01t</th>\n",
       "      <th>escs</th>\n",
       "      <th>homepos</th>\n",
       "      <th>wealth</th>\n",
       "      <th>academic_performance_index</th>\n",
       "      <th>belong</th>\n",
       "      <th>unfairteacher</th>\n",
       "      <th>scieeff</th>\n",
       "      <th>disclisci</th>\n",
       "      <th>motivat</th>\n",
       "      <th>pared</th>\n",
       "      <th>teachsup</th>\n",
       "      <th>emosups</th>\n",
       "      <th>anxiety_level_encoded</th>\n",
       "    </tr>\n",
       "  </thead>\n",
       "  <tbody>\n",
       "    <tr>\n",
       "      <th>0</th>\n",
       "      <td>3600001.0</td>\n",
       "      <td>16.00</td>\n",
       "      <td>0.0</td>\n",
       "      <td>Male</td>\n",
       "      <td>1.3515</td>\n",
       "      <td>1.8051</td>\n",
       "      <td>2.6171</td>\n",
       "      <td>5.537787</td>\n",
       "      <td>2.5915</td>\n",
       "      <td>6.0</td>\n",
       "      <td>1.2229</td>\n",
       "      <td>0.3363</td>\n",
       "      <td>0.1111</td>\n",
       "      <td>15.0</td>\n",
       "      <td>1.4475</td>\n",
       "      <td>1.0991</td>\n",
       "      <td>1</td>\n",
       "    </tr>\n",
       "    <tr>\n",
       "      <th>1</th>\n",
       "      <td>3600002.0</td>\n",
       "      <td>15.83</td>\n",
       "      <td>0.0</td>\n",
       "      <td>Male</td>\n",
       "      <td>1.1971</td>\n",
       "      <td>0.9351</td>\n",
       "      <td>0.9759</td>\n",
       "      <td>5.921402</td>\n",
       "      <td>-1.0536</td>\n",
       "      <td>18.0</td>\n",
       "      <td>1.2067</td>\n",
       "      <td>0.6000</td>\n",
       "      <td>1.8543</td>\n",
       "      <td>15.0</td>\n",
       "      <td>-1.1047</td>\n",
       "      <td>0.0250</td>\n",
       "      <td>2</td>\n",
       "    </tr>\n",
       "    <tr>\n",
       "      <th>2</th>\n",
       "      <td>3600004.0</td>\n",
       "      <td>16.17</td>\n",
       "      <td>0.0</td>\n",
       "      <td>Female</td>\n",
       "      <td>1.2256</td>\n",
       "      <td>1.2377</td>\n",
       "      <td>1.0320</td>\n",
       "      <td>-2.584935</td>\n",
       "      <td>0.4153</td>\n",
       "      <td>7.0</td>\n",
       "      <td>-0.0176</td>\n",
       "      <td>-0.3506</td>\n",
       "      <td>0.5952</td>\n",
       "      <td>15.0</td>\n",
       "      <td>0.9209</td>\n",
       "      <td>1.0991</td>\n",
       "      <td>2</td>\n",
       "    </tr>\n",
       "    <tr>\n",
       "      <th>3</th>\n",
       "      <td>3600005.0</td>\n",
       "      <td>15.92</td>\n",
       "      <td>0.0</td>\n",
       "      <td>Male</td>\n",
       "      <td>0.8642</td>\n",
       "      <td>1.9803</td>\n",
       "      <td>1.4158</td>\n",
       "      <td>-0.075928</td>\n",
       "      <td>0.2947</td>\n",
       "      <td>19.0</td>\n",
       "      <td>0.3000</td>\n",
       "      <td>-1.1864</td>\n",
       "      <td>-0.4982</td>\n",
       "      <td>12.0</td>\n",
       "      <td>-0.2651</td>\n",
       "      <td>-0.2495</td>\n",
       "      <td>0</td>\n",
       "    </tr>\n",
       "    <tr>\n",
       "      <th>4</th>\n",
       "      <td>3600006.0</td>\n",
       "      <td>15.92</td>\n",
       "      <td>0.0</td>\n",
       "      <td>Male</td>\n",
       "      <td>0.3490</td>\n",
       "      <td>-0.0850</td>\n",
       "      <td>0.3716</td>\n",
       "      <td>-3.949186</td>\n",
       "      <td>-1.4204</td>\n",
       "      <td>21.0</td>\n",
       "      <td>3.2775</td>\n",
       "      <td>0.0039</td>\n",
       "      <td>1.8543</td>\n",
       "      <td>14.0</td>\n",
       "      <td>-2.7195</td>\n",
       "      <td>1.0991</td>\n",
       "      <td>2</td>\n",
       "    </tr>\n",
       "  </tbody>\n",
       "</table>\n",
       "</div>"
      ],
      "text/plain": [
       "   student_id    age  grade  ... teachsup  emosups  anxiety_level_encoded\n",
       "0   3600001.0  16.00    0.0  ...   1.4475   1.0991                      1\n",
       "1   3600002.0  15.83    0.0  ...  -1.1047   0.0250                      2\n",
       "2   3600004.0  16.17    0.0  ...   0.9209   1.0991                      2\n",
       "3   3600005.0  15.92    0.0  ...  -0.2651  -0.2495                      0\n",
       "4   3600006.0  15.92    0.0  ...  -2.7195   1.0991                      2\n",
       "\n",
       "[5 rows x 17 columns]"
      ]
     },
     "execution_count": 3,
     "metadata": {},
     "output_type": "execute_result"
    }
   ],
   "source": [
    "# Retrieving data from feature store\n",
    "def load_feature_group(fg_name, record_identifier=\"student_id\", event_time=\"event_time\"):\n",
    "    fg = FeatureGroup(name=fg_name, sagemaker_session=sagemaker_session)\n",
    "\n",
    "    query = fg.athena_query()\n",
    "    table = query.table_name\n",
    "\n",
    "    # Running SQL query to get all data from the feature group\n",
    "    sql = f'SELECT * FROM \"{table}\"'\n",
    "    print(f\"Running query for Feature Group: {fg_name}\")\n",
    "    query.run(query_string=sql, output_location=f\"s3://{sagemaker_session.default_bucket()}/athena-results/\")\n",
    "    query.wait()\n",
    "\n",
    "    # Loading results into pandas\n",
    "    df = query.as_dataframe()\n",
    "\n",
    "    # Dropping duplicates by keeping latest event_time per student_id\n",
    "    df = df.sort_values(by=[record_identifier, event_time]).drop_duplicates(subset=[record_identifier], keep=\"last\")\n",
    "\n",
    "    return df\n",
    "\n",
    "\n",
    "def clean_featurestore_df(df):\n",
    "    drop_cols = [\"write_time\", \"is_deleted\", \"api_invocation_time\", \"event_time\"]\n",
    "    return df.drop(columns=[c for c in drop_cols if c in df.columns])\n",
    "\n",
    "\n",
    "# Loading each feature group\n",
    "demo_ses_df = load_feature_group(\"student-demographics-ses-fg\")\n",
    "performance_df = load_feature_group(\"student-performance-fg\")\n",
    "wellbeing_df = load_feature_group(\"student-wellbeing-fg\")\n",
    "target_df = load_feature_group(\"student-anxiety-target-fg\")\n",
    "\n",
    "print(\"\\nFeature Group shapes:\")\n",
    "print(f\"Demographics & SES: {demo_ses_df.shape}\")\n",
    "print(f\"Academic Performance: {performance_df.shape}\")\n",
    "print(f\"Student Wellbeing: {wellbeing_df.shape}\")\n",
    "print(f\"Anxiety Target: {target_df.shape}\")\n",
    "\n",
    "# Cleaning dataset by dropping metadata columns before merging\n",
    "demo_ses_df = clean_featurestore_df(demo_ses_df)\n",
    "performance_df = clean_featurestore_df(performance_df)\n",
    "wellbeing_df = clean_featurestore_df(wellbeing_df)\n",
    "target_df = clean_featurestore_df(target_df)\n",
    "\n",
    "# Joining into single dataset on \"student_id\"\n",
    "df_merged = (\n",
    "    demo_ses_df\n",
    "    .merge(performance_df, on=\"student_id\", how=\"inner\")\n",
    "    .merge(wellbeing_df, on=\"student_id\", how=\"inner\")\n",
    "    .merge(target_df, on=\"student_id\", how=\"inner\")\n",
    ")\n",
    "\n",
    "print(f\"\\nFinal merged dataset shape: {df_merged.shape}\")\n",
    "df_merged.head()"
   ]
  },
  {
   "cell_type": "code",
   "execution_count": 4,
   "id": "91486008-4fb5-4e2c-8181-b36cd93895f3",
   "metadata": {
    "execution": {
     "iopub.execute_input": "2025-10-15T02:35:06.306736Z",
     "iopub.status.busy": "2025-10-15T02:35:06.305536Z",
     "iopub.status.idle": "2025-10-15T02:35:06.320253Z",
     "shell.execute_reply": "2025-10-15T02:35:06.319592Z",
     "shell.execute_reply.started": "2025-10-15T02:35:06.306706Z"
    }
   },
   "outputs": [
    {
     "name": "stdout",
     "output_type": "stream",
     "text": [
      "Series([], dtype: object)\n"
     ]
    }
   ],
   "source": [
    "# Converting all object/string columns to categorical codes for use with XGBoost\n",
    "for col in df_merged.select_dtypes(include='object').columns:\n",
    "    df_merged[col] = df_merged[col].fillna('missing').astype('category').cat.codes\n",
    "\n",
    "# Verifying all columns are now numeric or category\n",
    "print(df_merged.dtypes[df_merged.dtypes == 'object'])  # Should be empty"
   ]
  },
  {
   "cell_type": "code",
   "execution_count": 5,
   "id": "9700703d-2a93-4613-aaa2-ddfe58244ffd",
   "metadata": {
    "execution": {
     "iopub.execute_input": "2025-10-15T02:35:06.323400Z",
     "iopub.status.busy": "2025-10-15T02:35:06.322185Z",
     "iopub.status.idle": "2025-10-15T02:35:06.367553Z",
     "shell.execute_reply": "2025-10-15T02:35:06.366909Z",
     "shell.execute_reply.started": "2025-10-15T02:35:06.323369Z"
    }
   },
   "outputs": [
    {
     "name": "stdout",
     "output_type": "stream",
     "text": [
      "Dataset sizes:\n",
      "Train: 10045 (40.0%)\n",
      "Validation: 2511 (10.0%)\n",
      "Test: 2511 (10.0%)\n",
      "Production: 10045 (40.0%)\n"
     ]
    }
   ],
   "source": [
    "# Splitting data into train, test, validation, and production sets\n",
    "\n",
    "# Production split\n",
    "df_trainvaltest, df_prod = train_test_split(\n",
    "    df_merged, test_size=0.4, random_state=0, shuffle=True, stratify=df_merged[\"anxiety_level_encoded\"]\n",
    ")\n",
    "\n",
    "# Splitting remaining data into train val and test sets\n",
    "df_train, df_temp = train_test_split(\n",
    "    df_trainvaltest, test_size=0.3333, random_state=0, shuffle=True, stratify=df_trainvaltest[\"anxiety_level_encoded\"]\n",
    ")\n",
    "\n",
    "df_val, df_test = train_test_split(\n",
    "    df_temp, test_size=0.5, random_state=0, shuffle=True, stratify=df_temp[\"anxiety_level_encoded\"]\n",
    ")\n",
    "\n",
    "print(\"Dataset sizes:\")\n",
    "print(f\"Train: {len(df_train)} ({len(df_train)/len(df_merged):.1%})\")\n",
    "print(f\"Validation: {len(df_val)} ({len(df_val)/len(df_merged):.1%})\")\n",
    "print(f\"Test: {len(df_test)} ({len(df_test)/len(df_merged):.1%})\")\n",
    "print(f\"Production: {len(df_prod)} ({len(df_prod)/len(df_merged):.1%})\")"
   ]
  },
  {
   "cell_type": "code",
   "execution_count": 6,
   "id": "e0ab3919-b9a9-4148-8191-57a8a5957056",
   "metadata": {
    "execution": {
     "iopub.execute_input": "2025-10-15T02:35:06.371600Z",
     "iopub.status.busy": "2025-10-15T02:35:06.370341Z",
     "iopub.status.idle": "2025-10-15T02:35:06.414318Z",
     "shell.execute_reply": "2025-10-15T02:35:06.413642Z",
     "shell.execute_reply.started": "2025-10-15T02:35:06.371569Z"
    }
   },
   "outputs": [
    {
     "name": "stdout",
     "output_type": "stream",
     "text": [
      "Feature matrices shapes:\n",
      "X_train: (10045, 15), y_train: (10045,)\n",
      "X_val: (2511, 15), y_val: (2511,)\n",
      "X_test: (2511, 15), y_test: (2511,)\n",
      "X_prod: (10045, 15), y_prod: (10045,)\n"
     ]
    }
   ],
   "source": [
    "# Separating features and target for each split and preprocessing\n",
    "exclude_cols = [\"student_id\", \"anxiety_level_encoded\"]\n",
    "\n",
    "x_train = df_train.drop(columns=exclude_cols)\n",
    "y_train = df_train[\"anxiety_level_encoded\"]\n",
    "\n",
    "x_val = df_val.drop(columns=exclude_cols)\n",
    "y_val = df_val[\"anxiety_level_encoded\"]\n",
    "\n",
    "x_test = df_test.drop(columns=exclude_cols)\n",
    "y_test = df_test[\"anxiety_level_encoded\"]\n",
    "\n",
    "x_prod = df_prod.drop(columns=exclude_cols)\n",
    "y_prod = df_prod[\"anxiety_level_encoded\"]\n",
    "\n",
    "# Standardizing numeric features\n",
    "numeric_cols = x_train.select_dtypes(include=np.number).columns.tolist()\n",
    "scaler = StandardScaler()\n",
    "x_train[numeric_cols] = scaler.fit_transform(x_train[numeric_cols])\n",
    "x_val[numeric_cols] = scaler.transform(x_val[numeric_cols])\n",
    "x_test[numeric_cols] = scaler.transform(x_test[numeric_cols])\n",
    "x_prod[numeric_cols] = scaler.transform(x_prod[numeric_cols])\n",
    "\n",
    "print(\"Feature matrices shapes:\")\n",
    "print(f\"X_train: {x_train.shape}, y_train: {y_train.shape}\")\n",
    "print(f\"X_val: {x_val.shape}, y_val: {y_val.shape}\")\n",
    "print(f\"X_test: {x_test.shape}, y_test: {y_test.shape}\")\n",
    "print(f\"X_prod: {x_prod.shape}, y_prod: {y_prod.shape}\")"
   ]
  },
  {
   "cell_type": "code",
   "execution_count": 12,
   "id": "319bda8d-4384-42cd-912e-b6fab8bb04c2",
   "metadata": {
    "execution": {
     "iopub.execute_input": "2025-10-15T02:39:23.091730Z",
     "iopub.status.busy": "2025-10-15T02:39:23.091460Z",
     "iopub.status.idle": "2025-10-15T02:39:24.106466Z",
     "shell.execute_reply": "2025-10-15T02:39:24.105851Z",
     "shell.execute_reply.started": "2025-10-15T02:39:23.091709Z"
    }
   },
   "outputs": [
    {
     "name": "stderr",
     "output_type": "stream",
     "text": [
      "/opt/conda/lib/python3.12/site-packages/xgboost/core.py:158: UserWarning: [02:39:23] WARNING: /home/conda/feedstock_root/build_artifacts/xgboost-split_1744329020674/work/src/learner.cc:740: \n",
      "Parameters: { \"use_label_encoder\" } are not used.\n",
      "\n",
      "  warnings.warn(smsg, UserWarning)\n"
     ]
    },
    {
     "name": "stdout",
     "output_type": "stream",
     "text": [
      "Validation Set Metrics:\n",
      "              precision    recall  f1-score   support\n",
      "\n",
      "           0       0.52      0.55      0.53       820\n",
      "           1       0.52      0.54      0.53       848\n",
      "           2       0.40      0.37      0.38       843\n",
      "\n",
      "    accuracy                           0.49      2511\n",
      "   macro avg       0.48      0.49      0.48      2511\n",
      "weighted avg       0.48      0.49      0.48      2511\n",
      "\n",
      "Test Set Metrics:\n",
      "              precision    recall  f1-score   support\n",
      "\n",
      "           0       0.52      0.53      0.53       821\n",
      "           1       0.54      0.57      0.56       847\n",
      "           2       0.42      0.39      0.40       843\n",
      "\n",
      "    accuracy                           0.50      2511\n",
      "   macro avg       0.49      0.50      0.50      2511\n",
      "weighted avg       0.49      0.50      0.50      2511\n",
      "\n"
     ]
    },
    {
     "data": {
      "image/png": "[encoded data removed]",
      "text/plain": [
       "<Figure size 640x480 with 2 Axes>"
      ]
     },
     "metadata": {},
     "output_type": "display_data"
    }
   ],
   "source": [
    "# Creating simple XGBoost classifier for baseline model\n",
    "xgb_clf = xgb.XGBClassifier(\n",
    "    objective='multi:softmax',\n",
    "    num_class=len(y_train.unique()),\n",
    "    eval_metric='mlogloss',\n",
    "    use_label_encoder=False,\n",
    "    random_state=0,\n",
    "    n_estimators=100,\n",
    "    max_depth=5,\n",
    "    learning_rate=0.1,\n",
    "    enable_categorical=True\n",
    ")\n",
    "\n",
    "# Training model\n",
    "xgb_clf.fit(\n",
    "    x_train, y_train,\n",
    "    eval_set=[(x_val, y_val)],\n",
    "    verbose=False\n",
    ")\n",
    "\n",
    "# Making predictions on validation and test sets\n",
    "y_val_pred = xgb_clf.predict(x_val)\n",
    "y_test_pred = xgb_clf.predict(x_test)\n",
    "\n",
    "# Evaluating baseline model\n",
    "print(\"Validation Set Metrics:\")\n",
    "print(classification_report(y_val, y_val_pred))\n",
    "\n",
    "print(\"Test Set Metrics:\")\n",
    "print(classification_report(y_test, y_test_pred))\n",
    "\n",
    "# Printing confusion matrix for test set\n",
    "cm = confusion_matrix(y_test, y_test_pred)\n",
    "disp = ConfusionMatrixDisplay(cm)\n",
    "disp.plot(cmap=plt.cm.Blues)\n",
    "plt.title(\"Test Set Confusion Matrix\")\n",
    "plt.show()"
   ]
  },
  {
   "cell_type": "code",
   "execution_count": 15,
   "id": "e3eeb802-3f18-4ef0-814e-b378d07e3a9e",
   "metadata": {
    "execution": {
     "iopub.execute_input": "2025-10-15T02:44:43.539068Z",
     "iopub.status.busy": "2025-10-15T02:44:43.538793Z",
     "iopub.status.idle": "2025-10-15T02:48:25.250431Z",
     "shell.execute_reply": "2025-10-15T02:48:25.249730Z",
     "shell.execute_reply.started": "2025-10-15T02:44:43.539047Z"
    }
   },
   "outputs": [
    {
     "name": "stdout",
     "output_type": "stream",
     "text": [
      "Fitting 3 folds for each of 30 candidates, totalling 90 fits\n",
      "Best parameters found: {'subsample': 0.6, 'reg_lambda': 5, 'reg_alpha': 0, 'n_estimators': 400, 'min_child_weight': 1, 'max_depth': 6, 'learning_rate': 0.01, 'gamma': 0.1, 'colsample_bytree': 0.6}\n"
     ]
    }
   ],
   "source": [
    "# Refining model\n",
    "\n",
    "# Parameters for RandomizedSearchCV\n",
    "param_dist = {\n",
    "    'n_estimators': [100, 200, 400],\n",
    "    'max_depth': [4, 6, 8, 10],\n",
    "    'learning_rate': [0.01, 0.05, 0.1],\n",
    "    'subsample': [0.6, 0.8, 1.0],\n",
    "    'colsample_bytree': [0.6, 0.8, 1.0],\n",
    "    'min_child_weight': [1, 3, 5],\n",
    "    'gamma': [0, 0.1, 0.3, 0.5],\n",
    "    'reg_lambda': [1, 2, 5],\n",
    "    'reg_alpha': [0, 0.1, 0.5]\n",
    "}\n",
    "\n",
    "xgb_cv = xgb.XGBClassifier(\n",
    "    objective='multi:softmax',\n",
    "    num_class=len(y_train.unique()),\n",
    "    eval_metric='mlogloss',\n",
    "    enable_categorical=True,\n",
    "    random_state=0\n",
    ")\n",
    "\n",
    "random_search = RandomizedSearchCV(\n",
    "    xgb_cv,\n",
    "    param_distributions=param_dist,\n",
    "    n_iter=30,\n",
    "    scoring='f1_macro',\n",
    "    cv=3,\n",
    "    verbose=2,\n",
    "    random_state=0,\n",
    "    n_jobs=-1\n",
    ")\n",
    "\n",
    "random_search.fit(x_train, y_train)\n",
    "print(\"Best parameters found:\", random_search.best_params_)"
   ]
  },
  {
   "cell_type": "code",
   "execution_count": null,
   "id": "7d3ad094-b76e-4f04-b0fc-49aedd0c67cf",
   "metadata": {},
   "outputs": [],
   "source": [
    "# Combining training and validation sets for final model training\n",
    "x_full_train = pd.concat([x_train, x_val])\n",
    "y_full_train = pd.concat([y_train, y_val])\n",
    "\n",
    "best_params = random_search.best_params_\n",
    "\n",
    "xgb_best = xgb.XGBClassifier(\n",
    "    objective='multi:softprob',\n",
    "    num_class=len(y_train.unique()),\n",
    "    eval_metric='mlogloss',\n",
    "    enable_categorical=True,\n",
    "    random_state=0,\n",
    "    **best_params\n",
    ")\n",
    "\n",
    "xgb_best.fit(\n",
    "    x_full_train, y_full_train,\n",
    "    verbose=False\n",
    ")\n",
    "\n",
    "# Evaluating model\n",
    "y_val_pred = xgb_refined.predict(x_val)\n",
    "print(\"Validation Metrics:\")\n",
    "print(classification_report(y_val, y_val_pred))\n",
    "\n",
    "# Test predictions\n",
    "y_test_pred = xgb_refined.predict(x_test)\n",
    "print(\"Test Metrics:\")\n",
    "print(classification_report(y_test, y_test_pred))\n",
    "\n",
    "# Confusion Matrix for test set\n",
    "cm = confusion_matrix(y_test, y_test_pred)\n",
    "disp = ConfusionMatrixDisplay(cm)\n",
    "disp.plot(cmap=plt.cm.Blues)\n",
    "plt.title(\"Test Set Confusion Matrix\")\n",
    "plt.show()\n",
    "\n",
    "# Feature importance\n",
    "xgb.plot_importance(xgb_refined, max_num_features=20, importance_type='gain', height=0.5)\n",
    "plt.title(\"Top 20 Feature Importances\")\n",
    "plt.show()"
   ]
  }
 ],
 "metadata": {
  "kernelspec": {
   "display_name": "Python 3 (ipykernel)",
   "language": "python",
   "name": "python3"
  },
  "language_info": {
   "codemirror_mode": {
    "name": "ipython",
    "version": 3
   },
   "file_extension": ".py",
   "mimetype": "text/x-python",
   "name": "python",
   "nbconvert_exporter": "python",
   "pygments_lexer": "ipython3",
   "version": "3.12.9"
  }
 },
 "nbformat": 4,
 "nbformat_minor": 5
}
