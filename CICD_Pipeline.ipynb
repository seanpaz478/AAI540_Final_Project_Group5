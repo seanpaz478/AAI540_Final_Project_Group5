{
 "cells": [
  {
   "cell_type": "code",
   "execution_count": 17,
   "id": "f0b15e92-8270-4912-98d1-1cd72812654b",
   "metadata": {
    "execution": {
     "iopub.execute_input": "2025-10-23T23:17:54.147565Z",
     "iopub.status.busy": "2025-10-23T23:17:54.147277Z",
     "iopub.status.idle": "2025-10-23T23:17:54.153785Z",
     "shell.execute_reply": "2025-10-23T23:17:54.152890Z",
     "shell.execute_reply.started": "2025-10-23T23:17:54.147541Z"
    }
   },
   "outputs": [],
   "source": [
    "# Importing necessary libraries\n",
    "import os\n",
    "import json\n",
    "import boto3\n",
    "import pandas as pd\n",
    "import sagemaker\n",
    "from sagemaker.workflow.pipeline_context import PipelineSession\n",
    "from sagemaker.workflow.pipeline import Pipeline\n",
    "from sagemaker.workflow.parameters import ParameterString, ParameterInteger, ParameterFloat\n",
    "from sagemaker.sklearn.processing import SKLearnProcessor\n",
    "from sagemaker.processing import ProcessingInput, ProcessingOutput, ScriptProcessor\n",
    "from sagemaker.workflow.steps import ProcessingStep, TrainingStep, CreateModelStep\n",
    "from sagemaker.workflow.model_step import ModelStep\n",
    "from sagemaker.workflow.conditions import ConditionLessThanOrEqualTo\n",
    "from sagemaker.workflow.condition_step import ConditionStep\n",
    "from sagemaker.workflow.fail_step import FailStep\n",
    "from sagemaker.workflow.properties import PropertyFile\n",
    "from sagemaker.model_metrics import MetricsSource, ModelMetrics\n",
    "from sagemaker.model import Model\n",
    "from sagemaker.inputs import TrainingInput, TransformInput\n",
    "from sagemaker.lineage.visualizer import LineageTableVisualizer\n",
    "from sagemaker.estimator import Estimator\n",
    "from sagemaker.sklearn.estimator import SKLearn\n",
    "from sagemaker import image_uris\n",
    "from sagemaker.xgboost.model import XGBoostModel\n",
    "from sagemaker.sklearn.model import SKLearnModel\n",
    "from sagemaker.workflow.conditions import ConditionGreaterThan\n",
    "from sagemaker.workflow.condition_step import ConditionStep\n",
    "from sagemaker.workflow.functions import JsonGet"
   ]
  },
  {
   "cell_type": "code",
   "execution_count": 18,
   "id": "f63f7fe8-c1a5-43b2-992f-4efb17d55cb5",
   "metadata": {
    "execution": {
     "iopub.execute_input": "2025-10-23T23:17:54.155566Z",
     "iopub.status.busy": "2025-10-23T23:17:54.155142Z",
     "iopub.status.idle": "2025-10-23T23:17:54.511450Z",
     "shell.execute_reply": "2025-10-23T23:17:54.510667Z",
     "shell.execute_reply.started": "2025-10-23T23:17:54.155518Z"
    }
   },
   "outputs": [
    {
     "name": "stdout",
     "output_type": "stream",
     "text": [
      "Region: us-east-1\n",
      "Role: arn:aws:iam::303848588930:role/LabRole\n"
     ]
    }
   ],
   "source": [
    "# Creating session variables\n",
    "region = boto3.Session().region_name\n",
    "role = sagemaker.get_execution_role()\n",
    "sm_session = sagemaker.Session()\n",
    "pipeline_session = PipelineSession()\n",
    "bucket = sm_session.default_bucket()\n",
    "prefix = \"student-anxiety-pipeline\"\n",
    "\n",
    "LOCAL_DIR = \"local_artifacts\"\n",
    "os.makedirs(LOCAL_DIR, exist_ok=True)\n",
    "print(f\"Region: {region}\")\n",
    "print(f\"Role: {role}\")"
   ]
  },
  {
   "cell_type": "code",
   "execution_count": 19,
   "id": "99473693-7960-4649-8ce5-73625b2adbec",
   "metadata": {
    "execution": {
     "iopub.execute_input": "2025-10-23T23:17:54.513287Z",
     "iopub.status.busy": "2025-10-23T23:17:54.513065Z",
     "iopub.status.idle": "2025-10-23T23:17:54.517872Z",
     "shell.execute_reply": "2025-10-23T23:17:54.517273Z",
     "shell.execute_reply.started": "2025-10-23T23:17:54.513268Z"
    }
   },
   "outputs": [],
   "source": [
    "# Creating parameters\n",
    "processing_instance_type = ParameterString(name=\"ProcessingInstanceType\", default_value=\"ml.m5.xlarge\")\n",
    "training_instance_type = ParameterString(name=\"TrainingInstanceType\", default_value=\"ml.m5.xlarge\")\n",
    "processing_instance_count = ParameterInteger(name=\"ProcessingInstanceCount\", default_value=1)\n",
    "\n",
    "input_data = ParameterString(\n",
    "    name=\"InputData\",\n",
    "    default_value=f\"s3://{bucket}/path/to/student_anxiety_raw.csv\"\n",
    ")\n"
   ]
  },
  {
   "cell_type": "code",
   "execution_count": 20,
   "id": "8416d0f1-d61c-4345-9adf-f2a9cd890ef2",
   "metadata": {
    "execution": {
     "iopub.execute_input": "2025-10-23T23:17:54.519697Z",
     "iopub.status.busy": "2025-10-23T23:17:54.519490Z",
     "iopub.status.idle": "2025-10-23T23:17:54.546287Z",
     "shell.execute_reply": "2025-10-23T23:17:54.545674Z",
     "shell.execute_reply.started": "2025-10-23T23:17:54.519679Z"
    }
   },
   "outputs": [
    {
     "name": "stderr",
     "output_type": "stream",
     "text": [
      "WARNING:sagemaker.workflow.utilities:The input argument instance_type of function (sagemaker.image_uris.retrieve) is a pipeline variable (<class 'sagemaker.workflow.parameters.ParameterString'>), which is interpreted in pipeline execution time only. As the function needs to evaluate the argument value in SDK compile time, the default_value of this Parameter object will be used to override it. Please make sure the default_value is valid.\n",
      "INFO:sagemaker.image_uris:Defaulting to only available Python version: py3\n"
     ]
    }
   ],
   "source": [
    "# Preprocessing step\n",
    "preprocess_script_path = \"code/preprocessing.py\"\n",
    "\n",
    "sklearn_processor = SKLearnProcessor(\n",
    "    framework_version=\"1.2-1\",\n",
    "    instance_type=processing_instance_type,\n",
    "    instance_count=processing_instance_count,\n",
    "    base_job_name=\"student-anxiety-preprocess\",\n",
    "    role=role,\n",
    "    sagemaker_session=pipeline_session,\n",
    ")\n",
    "\n",
    "preprocess_step = ProcessingStep(\n",
    "    name=\"PreprocessStudentData\",\n",
    "    processor=sklearn_processor,\n",
    "    code=preprocess_script_path,\n",
    "    outputs=[\n",
    "        # SKLearn outputs\n",
    "        ProcessingOutput(output_name=\"train_sklearn\", source=\"/opt/ml/processing/train_sklearn\"),\n",
    "        ProcessingOutput(output_name=\"val_sklearn\", source=\"/opt/ml/processing/validation_sklearn\"),\n",
    "        ProcessingOutput(output_name=\"test_sklearn\", source=\"/opt/ml/processing/test_sklearn\"),\n",
    "\n",
    "        # XGBoost outputs\n",
    "        ProcessingOutput(output_name=\"train_xgb\", source=\"/opt/ml/processing/train_xgb\"),\n",
    "        ProcessingOutput(output_name=\"val_xgb\", source=\"/opt/ml/processing/validation_xgb\"),\n",
    "        ProcessingOutput(output_name=\"test_xgb\", source=\"/opt/ml/processing/test_xgb\"),\n",
    "    ],\n",
    "    job_arguments=[\n",
    "        \"--BUCKET\", bucket,\n",
    "        \"--AWS_REGION\", region\n",
    "    ]\n",
    ")\n"
   ]
  },
  {
   "cell_type": "code",
   "execution_count": 21,
   "id": "4965b88d-2cea-4eb7-bab7-1afbe71a282a",
   "metadata": {
    "execution": {
     "iopub.execute_input": "2025-10-23T23:17:54.548118Z",
     "iopub.status.busy": "2025-10-23T23:17:54.547818Z",
     "iopub.status.idle": "2025-10-23T23:17:54.580809Z",
     "shell.execute_reply": "2025-10-23T23:17:54.580191Z",
     "shell.execute_reply.started": "2025-10-23T23:17:54.548086Z"
    }
   },
   "outputs": [
    {
     "name": "stderr",
     "output_type": "stream",
     "text": [
      "WARNING:sagemaker:instance_type is a PipelineVariable (<class 'sagemaker.workflow.parameters.ParameterString'>). Its interpreted value in execution time should not be of GPU types since GPU training is not supported for Scikit-Learn.\n",
      "WARNING:sagemaker.workflow.utilities:The input argument instance_type of function (sagemaker.image_uris.retrieve) is a pipeline variable (<class 'sagemaker.workflow.parameters.ParameterString'>), which is interpreted in pipeline execution time only. As the function needs to evaluate the argument value in SDK compile time, the default_value of this Parameter object will be used to override it. Please make sure the default_value is valid.\n"
     ]
    }
   ],
   "source": [
    "# Training step for baseline model\n",
    "baseline_estimator = SKLearn(\n",
    "    entry_point=\"train.py\",\n",
    "    source_dir=\"baseline_lr\",\n",
    "    role=role,\n",
    "    framework_version=\"1.2-1\",\n",
    "    instance_type=processing_instance_type,\n",
    "    instance_count=1,\n",
    "    sagemaker_session=pipeline_session\n",
    ")\n",
    "\n",
    "baseline_train_input = TrainingInput(\n",
    "    s3_data=preprocess_step.properties.ProcessingOutputConfig.Outputs[\"train_sklearn\"].S3Output.S3Uri,\n",
    "    content_type=\"text/csv\"\n",
    ")\n",
    "baseline_val_input = TrainingInput(\n",
    "    s3_data=preprocess_step.properties.ProcessingOutputConfig.Outputs[\"val_sklearn\"].S3Output.S3Uri,\n",
    "    content_type=\"text/csv\"\n",
    ")\n",
    "\n",
    "train_step_sklearn = TrainingStep(\n",
    "    name=\"TrainBaselineModel\",\n",
    "    estimator=baseline_estimator,\n",
    "    inputs={\"train\": baseline_train_input, \"validation\": baseline_val_input}\n",
    ")\n"
   ]
  },
  {
   "cell_type": "code",
   "execution_count": 22,
   "id": "6244fe31-349a-4910-a2a8-99b4038f7d42",
   "metadata": {
    "execution": {
     "iopub.execute_input": "2025-10-23T23:17:54.582013Z",
     "iopub.status.busy": "2025-10-23T23:17:54.581580Z",
     "iopub.status.idle": "2025-10-23T23:17:54.612688Z",
     "shell.execute_reply": "2025-10-23T23:17:54.612067Z",
     "shell.execute_reply.started": "2025-10-23T23:17:54.581983Z"
    }
   },
   "outputs": [
    {
     "name": "stderr",
     "output_type": "stream",
     "text": [
      "INFO:sagemaker.image_uris:Ignoring unnecessary instance type: None.\n"
     ]
    }
   ],
   "source": [
    "# Training step for XGBoost model\n",
    "num_classes = 3\n",
    "\n",
    "xgb_container = image_uris.retrieve(\n",
    "    framework=\"xgboost\",\n",
    "    region=region,\n",
    "    version=\"1.7-1\"\n",
    ")\n",
    "\n",
    "xgb_estimator = Estimator(\n",
    "    image_uri=xgb_container,\n",
    "    role=role,\n",
    "    instance_count=1,\n",
    "    instance_type=processing_instance_type,\n",
    "    sagemaker_session=pipeline_session,\n",
    "    hyperparameters={\n",
    "        \"objective\": \"multi:softprob\",\n",
    "        \"num_class\": num_classes,\n",
    "        \"num_round\": 300,\n",
    "        \"max_depth\": 6,\n",
    "        \"eta\": 0.1,\n",
    "        \"subsample\": 0.8,\n",
    "        \"colsample_bytree\": 0.8,\n",
    "        \"eval_metric\": \"mlogloss\"\n",
    "    }\n",
    ")\n",
    "\n",
    "xgb_train_input = TrainingInput(\n",
    "    s3_data=preprocess_step.properties.ProcessingOutputConfig.Outputs[\"train_xgb\"].S3Output.S3Uri,\n",
    "    content_type=\"text/csv\"\n",
    ")\n",
    "xgb_val_input = TrainingInput(\n",
    "    s3_data=preprocess_step.properties.ProcessingOutputConfig.Outputs[\"val_xgb\"].S3Output.S3Uri,\n",
    "    content_type=\"text/csv\"\n",
    ")\n",
    "\n",
    "train_step_xgb = TrainingStep(\n",
    "    name=\"TrainXGBoostModel\",\n",
    "    estimator=xgb_estimator,\n",
    "    inputs={\"train\": xgb_train_input, \"validation\": xgb_val_input}\n",
    ")"
   ]
  },
  {
   "cell_type": "code",
   "execution_count": 23,
   "id": "e00b14ec-7c6d-4298-b7c2-5fae20bc5f53",
   "metadata": {
    "execution": {
     "iopub.execute_input": "2025-10-23T23:17:54.613765Z",
     "iopub.status.busy": "2025-10-23T23:17:54.613379Z",
     "iopub.status.idle": "2025-10-23T23:17:54.642551Z",
     "shell.execute_reply": "2025-10-23T23:17:54.641899Z",
     "shell.execute_reply.started": "2025-10-23T23:17:54.613735Z"
    }
   },
   "outputs": [
    {
     "name": "stderr",
     "output_type": "stream",
     "text": [
      "WARNING:sagemaker.workflow.utilities:The input argument instance_type of function (sagemaker.image_uris.retrieve) is a pipeline variable (<class 'sagemaker.workflow.parameters.ParameterString'>), which is interpreted in pipeline execution time only. As the function needs to evaluate the argument value in SDK compile time, the default_value of this Parameter object will be used to override it. Please make sure the default_value is valid.\n",
      "INFO:sagemaker.image_uris:Defaulting to only available Python version: py3\n"
     ]
    }
   ],
   "source": [
    "# Evaluation step\n",
    "\n",
    "# Evaluation script path\n",
    "evaluation_script_path = \"code/evaluation.py\"\n",
    "\n",
    "evaluation_processor = SKLearnProcessor(\n",
    "    framework_version=\"1.2-1\",\n",
    "    role=role,\n",
    "    instance_type=processing_instance_type,\n",
    "    instance_count=processing_instance_count,\n",
    "    base_job_name=\"evaluate-student-models\",\n",
    "    sagemaker_session=pipeline_session,\n",
    ")\n",
    "\n",
    "evaluation_report = PropertyFile(\n",
    "    name=\"EvaluationReport\",\n",
    "    output_name=\"evaluation\",\n",
    "    path=\"evaluation.json\"\n",
    ")\n",
    "\n",
    "evaluate_step = ProcessingStep(\n",
    "    name=\"EvaluateModels\",\n",
    "    processor=evaluation_processor,\n",
    "    code=evaluation_script_path,\n",
    "    inputs=[\n",
    "        # SKLearn test data\n",
    "        ProcessingInput(\n",
    "            source=preprocess_step.properties.ProcessingOutputConfig.Outputs[\"test_sklearn\"].S3Output.S3Uri,\n",
    "            destination=\"/opt/ml/processing/test_sklearn\"\n",
    "        ),\n",
    "        # XGBoost test data\n",
    "        ProcessingInput(\n",
    "            source=preprocess_step.properties.ProcessingOutputConfig.Outputs[\"test_xgb\"].S3Output.S3Uri,\n",
    "            destination=\"/opt/ml/processing/test_xgb\"\n",
    "        ),\n",
    "        # Trained SKLearn model\n",
    "        ProcessingInput(\n",
    "            source=train_step_sklearn.properties.ModelArtifacts.S3ModelArtifacts,\n",
    "            destination=\"/opt/ml/processing/sklearn_model\"\n",
    "        ),\n",
    "        # Trained XGBoost model\n",
    "        ProcessingInput(\n",
    "            source=train_step_xgb.properties.ModelArtifacts.S3ModelArtifacts,\n",
    "            destination=\"/opt/ml/processing/xgb_model\"\n",
    "        ),\n",
    "    ],\n",
    "    outputs=[\n",
    "        ProcessingOutput(\n",
    "            output_name=\"evaluation\",\n",
    "            source=\"/opt/ml/processing/output\"\n",
    "        )\n",
    "    ],\n",
    "    property_files=[evaluation_report]\n",
    ")\n"
   ]
  },
  {
   "cell_type": "code",
   "execution_count": 24,
   "id": "d42f1a35-7cc9-487d-ad81-0fc2ad8fbb94",
   "metadata": {
    "execution": {
     "iopub.execute_input": "2025-10-23T23:17:54.643755Z",
     "iopub.status.busy": "2025-10-23T23:17:54.643243Z",
     "iopub.status.idle": "2025-10-23T23:17:55.011078Z",
     "shell.execute_reply": "2025-10-23T23:17:55.010490Z",
     "shell.execute_reply.started": "2025-10-23T23:17:54.643624Z"
    }
   },
   "outputs": [
    {
     "name": "stderr",
     "output_type": "stream",
     "text": [
      "/opt/conda/lib/python3.12/site-packages/sagemaker/workflow/pipeline_context.py:332: UserWarning: Running within a PipelineSession, there will be No Wait, No Logs, and No Job being started.\n",
      "  warnings.warn(\n",
      "INFO:sagemaker.image_uris:Ignoring unnecessary instance type: ml.m5.large.\n"
     ]
    }
   ],
   "source": [
    "# Conditional Model Registration\n",
    "f1_threshold = 0.5\n",
    "\n",
    "# SKLearn model\n",
    "sklearn_model = SKLearnModel(\n",
    "    model_data=train_step_sklearn.properties.ModelArtifacts.S3ModelArtifacts,\n",
    "    role=role,\n",
    "    entry_point=\"train.py\",\n",
    "    framework_version=\"1.2-1\",\n",
    "    sagemaker_session=pipeline_session\n",
    ")\n",
    "\n",
    "register_sklearn_model = ModelStep(\n",
    "    name=\"RegisterSKLearnModel\",\n",
    "    step_args=sklearn_model.register(\n",
    "        content_types=[\"text/csv\"],\n",
    "        response_types=[\"text/csv\"],\n",
    "        inference_instances=[\"ml.m5.large\"],\n",
    "        transform_instances=[\"ml.m5.large\"],\n",
    "        model_package_group_name=\"StudentAnxiety-SKLearn\"\n",
    "    )\n",
    ")\n",
    "\n",
    "condition_register_sklearn = ConditionStep(\n",
    "    name=\"RegisterSKLearnIfF1Good\",\n",
    "    conditions=[\n",
    "        ConditionGreaterThan(\n",
    "            left=JsonGet(\n",
    "                step_name=evaluate_step.name,\n",
    "                property_file=evaluation_report,\n",
    "                json_path=\"SKLearn.F1\"\n",
    "            ),\n",
    "            right=f1_threshold\n",
    "        )\n",
    "    ],\n",
    "    if_steps=[register_sklearn_model],\n",
    "    else_steps=[]\n",
    ")\n",
    "\n",
    "# XGBoost model\n",
    "xgb_model = XGBoostModel(\n",
    "    model_data=train_step_xgb.properties.ModelArtifacts.S3ModelArtifacts,\n",
    "    role=role,\n",
    "    framework_version=\"1.7-1\",\n",
    "    sagemaker_session=pipeline_session\n",
    ")\n",
    "\n",
    "register_xgb_model = ModelStep(\n",
    "    name=\"RegisterXGBoostModel\",\n",
    "    step_args=xgb_model.register(\n",
    "        content_types=[\"text/csv\"],\n",
    "        response_types=[\"text/csv\"],\n",
    "        inference_instances=[\"ml.m5.large\"],\n",
    "        transform_instances=[\"ml.m5.large\"],\n",
    "        model_package_group_name=\"StudentAnxiety-XGBoost\"\n",
    "    )\n",
    ")\n",
    "\n",
    "condition_register_xgb = ConditionStep(\n",
    "    name=\"RegisterXGBIfF1Good\",\n",
    "    conditions=[\n",
    "        ConditionGreaterThan(\n",
    "            left=JsonGet(\n",
    "                step_name=evaluate_step.name,\n",
    "                property_file=evaluation_report,\n",
    "                json_path=\"XGBoost.F1\"\n",
    "            ),\n",
    "            right=f1_threshold\n",
    "        )\n",
    "    ],\n",
    "    if_steps=[register_xgb_model],\n",
    "    else_steps=[]\n",
    ")\n",
    "\n"
   ]
  },
  {
   "cell_type": "code",
   "execution_count": 25,
   "id": "780127df-292d-41c5-9567-e97b4b205f86",
   "metadata": {
    "execution": {
     "iopub.execute_input": "2025-10-23T23:17:55.012294Z",
     "iopub.status.busy": "2025-10-23T23:17:55.011996Z",
     "iopub.status.idle": "2025-10-23T23:17:55.022168Z",
     "shell.execute_reply": "2025-10-23T23:17:55.021607Z",
     "shell.execute_reply.started": "2025-10-23T23:17:55.012264Z"
    }
   },
   "outputs": [],
   "source": [
    "# Pipeline definition\n",
    "pipeline = Pipeline(\n",
    "    name=\"StudentAnxietyPipeline\",\n",
    "    parameters=[\n",
    "        processing_instance_count,\n",
    "        processing_instance_type,\n",
    "        training_instance_type,\n",
    "    ],\n",
    "    steps=[\n",
    "        preprocess_step,\n",
    "        train_step_sklearn,\n",
    "        train_step_xgb,\n",
    "        evaluate_step,\n",
    "        condition_register_sklearn,\n",
    "        condition_register_xgb\n",
    "    ],\n",
    "    sagemaker_session=pipeline_session\n",
    ")"
   ]
  },
  {
   "cell_type": "code",
   "execution_count": 26,
   "id": "c3e71fe4-b1d8-4b55-989f-6809669ad40f",
   "metadata": {
    "execution": {
     "iopub.execute_input": "2025-10-23T23:17:55.023758Z",
     "iopub.status.busy": "2025-10-23T23:17:55.023522Z",
     "iopub.status.idle": "2025-10-23T23:17:56.281479Z",
     "shell.execute_reply": "2025-10-23T23:17:56.280718Z",
     "shell.execute_reply.started": "2025-10-23T23:17:55.023738Z"
    }
   },
   "outputs": [
    {
     "name": "stderr",
     "output_type": "stream",
     "text": [
      "WARNING:sagemaker.workflow.utilities:Popping out 'ProcessingJobName' from the pipeline definition by default since it will be overridden at pipeline execution time. Please utilize the PipelineDefinitionConfig to persist this field in the pipeline definition if desired.\n",
      "WARNING:sagemaker.workflow.utilities:The input argument instance_type of function (sagemaker.image_uris.get_training_image_uri) is a pipeline variable (<class 'sagemaker.workflow.parameters.ParameterString'>), which is interpreted in pipeline execution time only. As the function needs to evaluate the argument value in SDK compile time, the default_value of this Parameter object will be used to override it. Please make sure the default_value is valid.\n",
      "WARNING:sagemaker.workflow.utilities:The input argument instance_type of function (sagemaker.image_uris.get_training_image_uri) is a pipeline variable (<class 'sagemaker.workflow.parameters.ParameterString'>), which is interpreted in pipeline execution time only. As the function needs to evaluate the argument value in SDK compile time, the default_value of this Parameter object will be used to override it. Please make sure the default_value is valid.\n",
      "WARNING:sagemaker.workflow.utilities:Popping out 'TrainingJobName' from the pipeline definition by default since it will be overridden at pipeline execution time. Please utilize the PipelineDefinitionConfig to persist this field in the pipeline definition if desired.\n",
      "WARNING:sagemaker.workflow.utilities:Popping out 'TrainingJobName' from the pipeline definition by default since it will be overridden at pipeline execution time. Please utilize the PipelineDefinitionConfig to persist this field in the pipeline definition if desired.\n",
      "WARNING:sagemaker.workflow.utilities:Popping out 'ProcessingJobName' from the pipeline definition by default since it will be overridden at pipeline execution time. Please utilize the PipelineDefinitionConfig to persist this field in the pipeline definition if desired.\n",
      "WARNING:sagemaker.workflow._utils:Popping out 'CertifyForMarketplace' from the pipeline definition since it will be overridden in pipeline execution time.\n",
      "WARNING:sagemaker.workflow.utilities:Popping out 'ModelPackageName' from the pipeline definition by default since it will be overridden at pipeline execution time. Please utilize the PipelineDefinitionConfig to persist this field in the pipeline definition if desired.\n",
      "WARNING:sagemaker.workflow._utils:Popping out 'CertifyForMarketplace' from the pipeline definition since it will be overridden in pipeline execution time.\n",
      "WARNING:sagemaker.workflow.utilities:Popping out 'ModelPackageName' from the pipeline definition by default since it will be overridden at pipeline execution time. Please utilize the PipelineDefinitionConfig to persist this field in the pipeline definition if desired.\n",
      "WARNING:sagemaker.workflow.utilities:Popping out 'ProcessingJobName' from the pipeline definition by default since it will be overridden at pipeline execution time. Please utilize the PipelineDefinitionConfig to persist this field in the pipeline definition if desired.\n",
      "WARNING:sagemaker.workflow.utilities:The input argument instance_type of function (sagemaker.image_uris.get_training_image_uri) is a pipeline variable (<class 'sagemaker.workflow.parameters.ParameterString'>), which is interpreted in pipeline execution time only. As the function needs to evaluate the argument value in SDK compile time, the default_value of this Parameter object will be used to override it. Please make sure the default_value is valid.\n",
      "WARNING:sagemaker.workflow.utilities:Popping out 'TrainingJobName' from the pipeline definition by default since it will be overridden at pipeline execution time. Please utilize the PipelineDefinitionConfig to persist this field in the pipeline definition if desired.\n",
      "WARNING:sagemaker.workflow.utilities:Popping out 'TrainingJobName' from the pipeline definition by default since it will be overridden at pipeline execution time. Please utilize the PipelineDefinitionConfig to persist this field in the pipeline definition if desired.\n",
      "WARNING:sagemaker.workflow.utilities:Popping out 'ProcessingJobName' from the pipeline definition by default since it will be overridden at pipeline execution time. Please utilize the PipelineDefinitionConfig to persist this field in the pipeline definition if desired.\n",
      "WARNING:sagemaker.workflow.utilities:Popping out 'ModelPackageName' from the pipeline definition by default since it will be overridden at pipeline execution time. Please utilize the PipelineDefinitionConfig to persist this field in the pipeline definition if desired.\n",
      "WARNING:sagemaker.workflow.utilities:Popping out 'ModelPackageName' from the pipeline definition by default since it will be overridden at pipeline execution time. Please utilize the PipelineDefinitionConfig to persist this field in the pipeline definition if desired.\n"
     ]
    },
    {
     "name": "stdout",
     "output_type": "stream",
     "text": [
      "Pipeline execution started: arn:aws:sagemaker:us-east-1:303848588930:pipeline/StudentAnxietyPipeline/execution/uyiqvk2sgi7r\n"
     ]
    }
   ],
   "source": [
    "# Executing pipeline\n",
    "pipeline.upsert(role_arn=role)\n",
    "\n",
    "execution = pipeline.start()\n",
    "print(f\"Pipeline execution started: {execution.arn}\")"
   ]
  },
  {
   "cell_type": "code",
   "execution_count": null,
   "id": "a42ab020-0beb-41b9-8e5b-841c60835757",
   "metadata": {},
   "outputs": [],
   "source": []
  }
 ],
 "metadata": {
  "kernelspec": {
   "display_name": "Python 3 (ipykernel)",
   "language": "python",
   "name": "python3"
  },
  "language_info": {
   "codemirror_mode": {
    "name": "ipython",
    "version": 3
   },
   "file_extension": ".py",
   "mimetype": "text/x-python",
   "name": "python",
   "nbconvert_exporter": "python",
   "pygments_lexer": "ipython3",
   "version": "3.12.9"
  }
 },
 "nbformat": 4,
 "nbformat_minor": 5
}
