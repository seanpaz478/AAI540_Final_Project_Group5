{
 "cells": [
  {
   "cell_type": "code",
   "execution_count": 1,
   "id": "f0b15e92-8270-4912-98d1-1cd72812654b",
   "metadata": {
    "execution": {
     "iopub.execute_input": "2025-10-27T06:08:16.229397Z",
     "iopub.status.busy": "2025-10-27T06:08:16.228971Z",
     "iopub.status.idle": "2025-10-27T06:08:18.583004Z",
     "shell.execute_reply": "2025-10-27T06:08:18.582333Z",
     "shell.execute_reply.started": "2025-10-27T06:08:16.229368Z"
    }
   },
   "outputs": [
    {
     "name": "stdout",
     "output_type": "stream",
     "text": [
      "sagemaker.config INFO - Not applying SDK defaults from location: /etc/xdg/sagemaker/config.yaml\n",
      "sagemaker.config INFO - Not applying SDK defaults from location: /home/sagemaker-user/.config/sagemaker/config.yaml\n"
     ]
    }
   ],
   "source": [
    "# Importing necessary libraries\n",
    "import os\n",
    "import json\n",
    "import boto3\n",
    "import pandas as pd\n",
    "import sagemaker\n",
    "from sagemaker.workflow.pipeline_context import PipelineSession\n",
    "from sagemaker.workflow.pipeline import Pipeline\n",
    "from sagemaker.workflow.parameters import ParameterString, ParameterInteger, ParameterFloat\n",
    "from sagemaker.sklearn.processing import SKLearnProcessor\n",
    "from sagemaker.processing import ProcessingInput, ProcessingOutput, ScriptProcessor\n",
    "from sagemaker.workflow.steps import ProcessingStep, TrainingStep, CreateModelStep\n",
    "from sagemaker.workflow.model_step import ModelStep\n",
    "from sagemaker.workflow.conditions import ConditionLessThanOrEqualTo\n",
    "from sagemaker.workflow.condition_step import ConditionStep\n",
    "from sagemaker.workflow.fail_step import FailStep\n",
    "from sagemaker.workflow.properties import PropertyFile\n",
    "from sagemaker.model_metrics import MetricsSource, ModelMetrics\n",
    "from sagemaker.model import Model\n",
    "from sagemaker.inputs import TrainingInput, TransformInput\n",
    "from sagemaker.lineage.visualizer import LineageTableVisualizer\n",
    "from sagemaker.estimator import Estimator\n",
    "from sagemaker.sklearn.estimator import SKLearn\n",
    "from sagemaker import image_uris\n",
    "from sagemaker.xgboost.model import XGBoostModel\n",
    "from sagemaker.sklearn.model import SKLearnModel\n",
    "from sagemaker.workflow.conditions import ConditionGreaterThan\n",
    "from sagemaker.workflow.condition_step import ConditionStep\n",
    "from sagemaker.workflow.functions import JsonGet\n",
    "from sagemaker.session import Session\n",
    "from sagemaker.feature_store.feature_group import FeatureGroup\n",
    "from sklearn.model_selection import train_test_split"
   ]
  },
  {
   "cell_type": "code",
   "execution_count": 2,
   "id": "f63f7fe8-c1a5-43b2-992f-4efb17d55cb5",
   "metadata": {
    "execution": {
     "iopub.execute_input": "2025-10-27T06:08:18.584074Z",
     "iopub.status.busy": "2025-10-27T06:08:18.583648Z",
     "iopub.status.idle": "2025-10-27T06:08:19.172670Z",
     "shell.execute_reply": "2025-10-27T06:08:19.171980Z",
     "shell.execute_reply.started": "2025-10-27T06:08:18.584046Z"
    }
   },
   "outputs": [
    {
     "name": "stdout",
     "output_type": "stream",
     "text": [
      "Region: us-east-1\n",
      "Role: arn:aws:iam::303848588930:role/LabRole\n"
     ]
    }
   ],
   "source": [
    "# Creating session variables\n",
    "region = boto3.Session().region_name\n",
    "role = sagemaker.get_execution_role()\n",
    "sm_session = sagemaker.Session()\n",
    "pipeline_session = PipelineSession()\n",
    "bucket = sm_session.default_bucket()\n",
    "prefix = \"student-anxiety-pipeline\"\n",
    "\n",
    "LOCAL_DIR = \"local_artifacts\"\n",
    "os.makedirs(LOCAL_DIR, exist_ok=True)\n",
    "print(f\"Region: {region}\")\n",
    "print(f\"Role: {role}\")"
   ]
  },
  {
   "cell_type": "code",
   "execution_count": 3,
   "id": "99473693-7960-4649-8ce5-73625b2adbec",
   "metadata": {
    "execution": {
     "iopub.execute_input": "2025-10-27T06:08:19.173776Z",
     "iopub.status.busy": "2025-10-27T06:08:19.173484Z",
     "iopub.status.idle": "2025-10-27T06:08:19.177189Z",
     "shell.execute_reply": "2025-10-27T06:08:19.176419Z",
     "shell.execute_reply.started": "2025-10-27T06:08:19.173748Z"
    }
   },
   "outputs": [],
   "source": [
    "# Creating parameters\n",
    "processing_instance_type = ParameterString(name=\"ProcessingInstanceType\", default_value=\"ml.m5.xlarge\")\n",
    "training_instance_type = ParameterString(name=\"TrainingInstanceType\", default_value=\"ml.m5.xlarge\")\n",
    "processing_instance_count = ParameterInteger(name=\"ProcessingInstanceCount\", default_value=1)"
   ]
  },
  {
   "cell_type": "code",
   "execution_count": 4,
   "id": "e8a808bd-a4dd-4e2c-a25e-ad0dd5c5f385",
   "metadata": {
    "execution": {
     "iopub.execute_input": "2025-10-27T06:08:19.178155Z",
     "iopub.status.busy": "2025-10-27T06:08:19.177956Z",
     "iopub.status.idle": "2025-10-27T06:08:19.189368Z",
     "shell.execute_reply": "2025-10-27T06:08:19.188833Z",
     "shell.execute_reply.started": "2025-10-27T06:08:19.178137Z"
    }
   },
   "outputs": [],
   "source": [
    "def prepare_training_data(\n",
    "    sm_session: Session,\n",
    "    bucket: str,\n",
    "    prefix: str,\n",
    "    local_dir: str,\n",
    "    region: str,\n",
    "    target_col: str = \"anxiety_level_encoded\"\n",
    "):\n",
    "    \"\"\"\n",
    "    Loading feature groups from SageMaker Feature Store, preprocessing data,\n",
    "    and uploading train/val/test/prod splits to S3 for use in training pipeline\n",
    "    \"\"\"\n",
    "\n",
    "    s3 = boto3.client(\"s3\", region_name=region)\n",
    "    os.makedirs(local_dir, exist_ok=True)\n",
    "\n",
    "    def load_feature_group(fg_name):\n",
    "        \"\"\"Load data from Feature Store & clean metadata\"\"\"\n",
    "        fg = FeatureGroup(name=fg_name, sagemaker_session=sm_session)\n",
    "        q = fg.athena_query()\n",
    "        table = q.table_name\n",
    "\n",
    "        q.run(\n",
    "            query_string=f'SELECT * FROM \"{table}\"',\n",
    "            output_location=f\"s3://{bucket}/athena-results/\"\n",
    "        )\n",
    "        q.wait()\n",
    "        df = q.as_dataframe()\n",
    "\n",
    "        # Keeping most recent record per student\n",
    "        df = df.sort_values([\"student_id\", \"event_time\"])\n",
    "        df = df.drop_duplicates(subset=[\"student_id\"], keep=\"last\")\n",
    "\n",
    "        # Dropping metadata columns\n",
    "        meta_cols = [\"write_time\", \"is_deleted\", \"api_invocation_time\", \"event_time\"]\n",
    "        df = df.drop(columns=[c for c in meta_cols if c in df.columns])\n",
    "\n",
    "        return df\n",
    "\n",
    "    # Loading all feature groups\n",
    "    demo_df = load_feature_group(\"student-demographics-ses-fg\")\n",
    "    performance_df = load_feature_group(\"student-performance-fg\")\n",
    "    wellbeing_df = load_feature_group(\"student-wellbeing-fg\")\n",
    "    target_df = load_feature_group(\"student-anxiety-target-fg\")\n",
    "\n",
    "    print(\"\\nFeature Group shapes:\")\n",
    "    print(f\"Demographics & SES: {demo_df.shape}\")\n",
    "    print(f\"Academic Performance: {performance_df.shape}\")\n",
    "    print(f\"Student Wellbeing: {wellbeing_df.shape}\")\n",
    "    print(f\"Anxiety Target: {target_df.shape}\")\n",
    "\n",
    "    # Merging into one dataframe\n",
    "    df = demo_df.merge(performance_df, on=\"student_id\")\n",
    "    df = df.merge(wellbeing_df, on=\"student_id\")\n",
    "    df = df.merge(target_df, on=\"student_id\")\n",
    "\n",
    "    print(\"Merged shape:\", df.shape)\n",
    "\n",
    "    # Preprocessing\n",
    "    # Converting categorical columns to numeric codes\n",
    "    for col in df.columns:\n",
    "        if df[col].dtype == 'object':\n",
    "            df[col] = df[col].fillna(\"missing\")\n",
    "            df[col] = df[col].astype(\"category\").cat.codes\n",
    "\n",
    "    # Defining feature columns (everything except target & ID)\n",
    "    feature_cols = [c for c in df.columns if c not in [target_col, \"student_id\"]]\n",
    "\n",
    "    print(f\"Using {len(feature_cols)} features\")\n",
    "\n",
    "    # Splitting into train/val/test/prod\n",
    "    df_main, df_prod = train_test_split(df, test_size=0.4, random_state=0, stratify=df[target_col])\n",
    "    df_train, df_temp = train_test_split(df_main, test_size=0.3333, random_state=0, stratify=df_main[target_col])\n",
    "    df_val, df_test = train_test_split(df_temp, test_size=0.5, random_state=0, stratify=df_temp[target_col])\n",
    "\n",
    "    print(\"Dataset sizes:\")\n",
    "    print(f\"Train: {len(df_train)} | Val: {len(df_val)} | Test: {len(df_test)} | Prod: {len(df_prod)}\")\n",
    "\n",
    "    # Helper: Uploading splits to S3\n",
    "    def upload_to_s3(dataframe, split_name, use_xgb_format=False):\n",
    "        \"\"\"Save dataframe to S3 in the correct format\"\"\"\n",
    "        if use_xgb_format:\n",
    "            cols = [target_col] + feature_cols\n",
    "            local_path = f\"{local_dir}/{split_name}_xgb.csv\"\n",
    "            dataframe[cols].to_csv(local_path, header=False, index=False)\n",
    "            s3_key = f\"{prefix}/xgb/{split_name}/{split_name}.csv\"\n",
    "        else:\n",
    "            cols = [target_col] + feature_cols\n",
    "            local_path = f\"{local_dir}/{split_name}_sklearn.csv\"\n",
    "            dataframe[cols].to_csv(local_path, index=False)\n",
    "            s3_key = f\"{prefix}/sklearn/{split_name}/{split_name}.csv\"\n",
    "\n",
    "        s3.upload_file(local_path, bucket, s3_key)\n",
    "        return f\"s3://{bucket}/{s3_key}\"\n",
    "\n",
    "    # Uploading all splits\n",
    "    for name, data in [(\"train\", df_train), (\"val\", df_val), (\"test\", df_test), (\"prod\", df_prod)]:\n",
    "        upload_to_s3(data, name, use_xgb_format=False)\n",
    "        upload_to_s3(data, name, use_xgb_format=True)\n",
    "\n",
    "    print(\"All datasets uploaded to S3.\")\n",
    "\n",
    "    # Returning useful paths for pipeline steps\n",
    "    return {\n",
    "        \"train_sklearn\": f\"s3://{bucket}/{prefix}/sklearn/train/\",\n",
    "        \"val_sklearn\": f\"s3://{bucket}/{prefix}/sklearn/val/\",\n",
    "        \"test_sklearn\": f\"s3://{bucket}/{prefix}/sklearn/test/\",\n",
    "        \"train_xgb\": f\"s3://{bucket}/{prefix}/xgb/train/\",\n",
    "        \"val_xgb\": f\"s3://{bucket}/{prefix}/xgb/val/\",\n",
    "        \"test_xgb\": f\"s3://{bucket}/{prefix}/xgb/test/\",\n",
    "        \"num_classes\": df[target_col].nunique(),\n",
    "        \"feature_cols\": feature_cols,\n",
    "    }"
   ]
  },
  {
   "cell_type": "code",
   "execution_count": 5,
   "id": "8416d0f1-d61c-4345-9adf-f2a9cd890ef2",
   "metadata": {
    "execution": {
     "iopub.execute_input": "2025-10-27T06:08:19.191431Z",
     "iopub.status.busy": "2025-10-27T06:08:19.191165Z",
     "iopub.status.idle": "2025-10-27T06:08:43.060574Z",
     "shell.execute_reply": "2025-10-27T06:08:43.059935Z",
     "shell.execute_reply.started": "2025-10-27T06:08:19.191406Z"
    }
   },
   "outputs": [
    {
     "name": "stderr",
     "output_type": "stream",
     "text": [
      "INFO:sagemaker:Query be32cbb9-04ce-4032-8fc4-52ca994672e5 is being executed.\n",
      "INFO:sagemaker:Query be32cbb9-04ce-4032-8fc4-52ca994672e5 successfully executed.\n",
      "INFO:sagemaker:Query e138bcf6-3fc8-4308-b36b-8ca3c44c0ded is being executed.\n",
      "INFO:sagemaker:Query e138bcf6-3fc8-4308-b36b-8ca3c44c0ded successfully executed.\n",
      "INFO:sagemaker:Query bf7d0324-953b-421b-852f-8ee0103c5649 is being executed.\n",
      "INFO:sagemaker:Query bf7d0324-953b-421b-852f-8ee0103c5649 successfully executed.\n",
      "INFO:sagemaker:Query 19cd8f44-1510-4119-bb53-1aad4c935392 is being executed.\n",
      "INFO:sagemaker:Query 19cd8f44-1510-4119-bb53-1aad4c935392 successfully executed.\n"
     ]
    },
    {
     "name": "stdout",
     "output_type": "stream",
     "text": [
      "\n",
      "Feature Group shapes:\n",
      "Demographics & SES: (32293, 7)\n",
      "Academic Performance: (36824, 2)\n",
      "Student Wellbeing: (25141, 9)\n",
      "Anxiety Target: (35565, 2)\n",
      "Merged shape: (25112, 17)\n",
      "Using 15 features\n",
      "Dataset sizes:\n",
      "Train: 10045 | Val: 2511 | Test: 2511 | Prod: 10045\n",
      "All datasets uploaded to S3.\n"
     ]
    }
   ],
   "source": [
    "# Preprocessing step\n",
    "data_info = prepare_training_data(\n",
    "    sm_session=sm_session,\n",
    "    bucket=bucket,\n",
    "    prefix=prefix,\n",
    "    local_dir=LOCAL_DIR,\n",
    "    region=region\n",
    ")"
   ]
  },
  {
   "cell_type": "code",
   "execution_count": 6,
   "id": "5a60b431-fe93-429e-aeb8-1b388d056fb3",
   "metadata": {
    "execution": {
     "iopub.execute_input": "2025-10-27T06:08:43.061629Z",
     "iopub.status.busy": "2025-10-27T06:08:43.061316Z",
     "iopub.status.idle": "2025-10-27T06:08:43.066250Z",
     "shell.execute_reply": "2025-10-27T06:08:43.065696Z",
     "shell.execute_reply.started": "2025-10-27T06:08:43.061601Z"
    }
   },
   "outputs": [],
   "source": [
    "train_sklearn = data_info[\"train_sklearn\"]\n",
    "val_sklearn = data_info[\"val_sklearn\"]\n",
    "train_xgb = data_info[\"train_xgb\"]\n",
    "val_xgb = data_info[\"val_xgb\"]\n",
    "num_classes = data_info[\"num_classes\"]\n"
   ]
  },
  {
   "cell_type": "code",
   "execution_count": 7,
   "id": "4965b88d-2cea-4eb7-bab7-1afbe71a282a",
   "metadata": {
    "execution": {
     "iopub.execute_input": "2025-10-27T06:08:43.067887Z",
     "iopub.status.busy": "2025-10-27T06:08:43.067694Z",
     "iopub.status.idle": "2025-10-27T06:08:43.116564Z",
     "shell.execute_reply": "2025-10-27T06:08:43.115927Z",
     "shell.execute_reply.started": "2025-10-27T06:08:43.067870Z"
    }
   },
   "outputs": [
    {
     "name": "stderr",
     "output_type": "stream",
     "text": [
      "WARNING:sagemaker:instance_type is a PipelineVariable (<class 'sagemaker.workflow.parameters.ParameterString'>). Its interpreted value in execution time should not be of GPU types since GPU training is not supported for Scikit-Learn.\n",
      "WARNING:sagemaker.workflow.utilities:The input argument instance_type of function (sagemaker.image_uris.retrieve) is a pipeline variable (<class 'sagemaker.workflow.parameters.ParameterString'>), which is interpreted in pipeline execution time only. As the function needs to evaluate the argument value in SDK compile time, the default_value of this Parameter object will be used to override it. Please make sure the default_value is valid.\n"
     ]
    }
   ],
   "source": [
    "# Training step for baseline model\n",
    "baseline_estimator = SKLearn(\n",
    "    entry_point=\"train.py\",\n",
    "    source_dir=\"baseline_lr\",\n",
    "    role=role,\n",
    "    framework_version=\"1.2-1\",\n",
    "    instance_type=processing_instance_type,\n",
    "    instance_count=1,\n",
    "    sagemaker_session=pipeline_session\n",
    ")\n",
    "\n",
    "baseline_train_input = TrainingInput(\n",
    "    s3_data=train_sklearn,\n",
    "    content_type=\"text/csv\"\n",
    ")\n",
    "baseline_val_input = TrainingInput(\n",
    "    s3_data=val_sklearn,\n",
    "    content_type=\"text/csv\"\n",
    ")\n",
    "\n",
    "train_step_sklearn = TrainingStep(\n",
    "    name=\"TrainBaselineModel\",\n",
    "    estimator=baseline_estimator,\n",
    "    inputs={\"train\": baseline_train_input, \"validation\": baseline_val_input}\n",
    ")\n"
   ]
  },
  {
   "cell_type": "code",
   "execution_count": 8,
   "id": "6244fe31-349a-4910-a2a8-99b4038f7d42",
   "metadata": {
    "execution": {
     "iopub.execute_input": "2025-10-27T06:08:43.118286Z",
     "iopub.status.busy": "2025-10-27T06:08:43.118080Z",
     "iopub.status.idle": "2025-10-27T06:08:43.148765Z",
     "shell.execute_reply": "2025-10-27T06:08:43.148225Z",
     "shell.execute_reply.started": "2025-10-27T06:08:43.118268Z"
    }
   },
   "outputs": [
    {
     "name": "stderr",
     "output_type": "stream",
     "text": [
      "INFO:sagemaker.image_uris:Ignoring unnecessary instance type: None.\n"
     ]
    }
   ],
   "source": [
    "# Training step for XGBoost model\n",
    "num_classes = 3\n",
    "\n",
    "xgb_container = image_uris.retrieve(\n",
    "    framework=\"xgboost\",\n",
    "    region=region,\n",
    "    version=\"1.7-1\"\n",
    ")\n",
    "\n",
    "xgb_estimator = Estimator(\n",
    "    image_uri=xgb_container,\n",
    "    role=role,\n",
    "    instance_count=1,\n",
    "    instance_type=processing_instance_type,\n",
    "    sagemaker_session=pipeline_session,\n",
    "    hyperparameters={\n",
    "        \"objective\": \"multi:softprob\",\n",
    "        \"num_class\": num_classes,\n",
    "        \"num_round\": 300,\n",
    "        \"max_depth\": 6,\n",
    "        \"eta\": 0.1,\n",
    "        \"subsample\": 0.8,\n",
    "        \"colsample_bytree\": 0.8,\n",
    "        \"eval_metric\": \"mlogloss\"\n",
    "    }\n",
    ")\n",
    "\n",
    "xgb_train_input = TrainingInput(\n",
    "    s3_data=train_xgb,\n",
    "    content_type=\"text/csv\"\n",
    ")\n",
    "xgb_val_input = TrainingInput(\n",
    "    s3_data=val_xgb,\n",
    "    content_type=\"text/csv\"\n",
    ")\n",
    "\n",
    "train_step_xgb = TrainingStep(\n",
    "    name=\"TrainXGBoostModel\",\n",
    "    estimator=xgb_estimator,\n",
    "    inputs={\"train\": xgb_train_input, \"validation\": xgb_val_input}\n",
    ")"
   ]
  },
  {
   "cell_type": "code",
   "execution_count": 9,
   "id": "e00b14ec-7c6d-4298-b7c2-5fae20bc5f53",
   "metadata": {
    "execution": {
     "iopub.execute_input": "2025-10-27T06:08:43.149814Z",
     "iopub.status.busy": "2025-10-27T06:08:43.149396Z",
     "iopub.status.idle": "2025-10-27T06:08:43.174855Z",
     "shell.execute_reply": "2025-10-27T06:08:43.172736Z",
     "shell.execute_reply.started": "2025-10-27T06:08:43.149785Z"
    }
   },
   "outputs": [
    {
     "name": "stderr",
     "output_type": "stream",
     "text": [
      "WARNING:sagemaker.workflow.utilities:The input argument instance_type of function (sagemaker.image_uris.retrieve) is a pipeline variable (<class 'sagemaker.workflow.parameters.ParameterString'>), which is interpreted in pipeline execution time only. As the function needs to evaluate the argument value in SDK compile time, the default_value of this Parameter object will be used to override it. Please make sure the default_value is valid.\n",
      "INFO:sagemaker.image_uris:Defaulting to only available Python version: py3\n"
     ]
    }
   ],
   "source": [
    "# Evaluation step\n",
    "\n",
    "# Evaluation script path\n",
    "evaluation_script_path = \"code/evaluation.py\"\n",
    "\n",
    "evaluation_processor = SKLearnProcessor(\n",
    "    framework_version=\"1.2-1\",\n",
    "    role=role,\n",
    "    instance_type=processing_instance_type,\n",
    "    instance_count=processing_instance_count,\n",
    "    base_job_name=\"evaluate-student-models\",\n",
    "    sagemaker_session=pipeline_session,\n",
    ")\n",
    "\n",
    "evaluation_report = PropertyFile(\n",
    "    name=\"EvaluationReport\",\n",
    "    output_name=\"evaluation\",\n",
    "    path=\"evaluation.json\"\n",
    ")\n",
    "\n",
    "evaluate_step = ProcessingStep(\n",
    "    name=\"EvaluateModels\",\n",
    "    processor=evaluation_processor,\n",
    "    code=\"code/evaluation.py\",\n",
    "    inputs=[\n",
    "        ProcessingInput(\n",
    "            source=data_info[\"test_sklearn\"],\n",
    "            destination=\"/opt/ml/processing/test_sklearn\"\n",
    "        ),\n",
    "        ProcessingInput(\n",
    "            source=data_info[\"test_xgb\"],\n",
    "            destination=\"/opt/ml/processing/test_xgb\"\n",
    "        ),\n",
    "        ProcessingInput(\n",
    "            source=train_step_sklearn.properties.ModelArtifacts.S3ModelArtifacts,\n",
    "            destination=\"/opt/ml/processing/sklearn_model\"\n",
    "        ),\n",
    "        ProcessingInput(\n",
    "            source=train_step_xgb.properties.ModelArtifacts.S3ModelArtifacts,\n",
    "            destination=\"/opt/ml/processing/xgb_model\"\n",
    "        ),\n",
    "    ],\n",
    "    outputs=[\n",
    "        ProcessingOutput(\n",
    "            output_name=\"evaluation\",\n",
    "            source=\"/opt/ml/processing/output\"\n",
    "        )\n",
    "    ],\n",
    "    property_files=[evaluation_report]\n",
    ")\n"
   ]
  },
  {
   "cell_type": "code",
   "execution_count": 10,
   "id": "d42f1a35-7cc9-487d-ad81-0fc2ad8fbb94",
   "metadata": {
    "execution": {
     "iopub.execute_input": "2025-10-27T06:08:43.176043Z",
     "iopub.status.busy": "2025-10-27T06:08:43.175603Z",
     "iopub.status.idle": "2025-10-27T06:08:43.529204Z",
     "shell.execute_reply": "2025-10-27T06:08:43.528597Z",
     "shell.execute_reply.started": "2025-10-27T06:08:43.176014Z"
    }
   },
   "outputs": [
    {
     "name": "stderr",
     "output_type": "stream",
     "text": [
      "/opt/conda/lib/python3.12/site-packages/sagemaker/workflow/pipeline_context.py:332: UserWarning: Running within a PipelineSession, there will be No Wait, No Logs, and No Job being started.\n",
      "  warnings.warn(\n",
      "INFO:sagemaker.image_uris:Ignoring unnecessary instance type: ml.m5.large.\n"
     ]
    }
   ],
   "source": [
    "# Conditional Model Registration\n",
    "f1_threshold = 0.5\n",
    "\n",
    "# SKLearn model\n",
    "sklearn_model = SKLearnModel(\n",
    "    model_data=train_step_sklearn.properties.ModelArtifacts.S3ModelArtifacts,\n",
    "    role=role,\n",
    "    entry_point=\"train.py\",\n",
    "    framework_version=\"1.2-1\",\n",
    "    sagemaker_session=pipeline_session\n",
    ")\n",
    "\n",
    "register_sklearn_model = ModelStep(\n",
    "    name=\"RegisterSKLearnModel\",\n",
    "    step_args=sklearn_model.register(\n",
    "        content_types=[\"text/csv\"],\n",
    "        response_types=[\"text/csv\"],\n",
    "        inference_instances=[\"ml.m5.large\"],\n",
    "        transform_instances=[\"ml.m5.large\"],\n",
    "        model_package_group_name=\"StudentAnxiety-SKLearn\"\n",
    "    )\n",
    ")\n",
    "\n",
    "condition_register_sklearn = ConditionStep(\n",
    "    name=\"RegisterSKLearnIfF1Good\",\n",
    "    conditions=[\n",
    "        ConditionGreaterThan(\n",
    "            left=JsonGet(\n",
    "                step_name=evaluate_step.name,\n",
    "                property_file=evaluation_report,\n",
    "                json_path=\"SKLearn.F1\"\n",
    "            ),\n",
    "            right=f1_threshold\n",
    "        )\n",
    "    ],\n",
    "    if_steps=[register_sklearn_model],\n",
    "    else_steps=[]\n",
    ")\n",
    "\n",
    "# XGBoost model\n",
    "xgb_model = XGBoostModel(\n",
    "    model_data=train_step_xgb.properties.ModelArtifacts.S3ModelArtifacts,\n",
    "    role=role,\n",
    "    framework_version=\"1.7-1\",\n",
    "    sagemaker_session=pipeline_session\n",
    ")\n",
    "\n",
    "register_xgb_model = ModelStep(\n",
    "    name=\"RegisterXGBoostModel\",\n",
    "    step_args=xgb_model.register(\n",
    "        content_types=[\"text/csv\"],\n",
    "        response_types=[\"text/csv\"],\n",
    "        inference_instances=[\"ml.m5.large\"],\n",
    "        transform_instances=[\"ml.m5.large\"],\n",
    "        model_package_group_name=\"StudentAnxiety-XGBoost\"\n",
    "    )\n",
    ")\n",
    "\n",
    "condition_register_xgb = ConditionStep(\n",
    "    name=\"RegisterXGBIfF1Good\",\n",
    "    conditions=[\n",
    "        ConditionGreaterThan(\n",
    "            left=JsonGet(\n",
    "                step_name=evaluate_step.name,\n",
    "                property_file=evaluation_report,\n",
    "                json_path=\"XGBoost.F1\"\n",
    "            ),\n",
    "            right=f1_threshold\n",
    "        )\n",
    "    ],\n",
    "    if_steps=[register_xgb_model],\n",
    "    else_steps=[]\n",
    ")\n",
    "\n"
   ]
  },
  {
   "cell_type": "code",
   "execution_count": 11,
   "id": "780127df-292d-41c5-9567-e97b4b205f86",
   "metadata": {
    "execution": {
     "iopub.execute_input": "2025-10-27T06:08:43.530180Z",
     "iopub.status.busy": "2025-10-27T06:08:43.529842Z",
     "iopub.status.idle": "2025-10-27T06:08:43.538051Z",
     "shell.execute_reply": "2025-10-27T06:08:43.537497Z",
     "shell.execute_reply.started": "2025-10-27T06:08:43.530153Z"
    }
   },
   "outputs": [],
   "source": [
    "# Pipeline definition\n",
    "pipeline = Pipeline(\n",
    "    name=\"StudentAnxietyPipeline\",\n",
    "    parameters=[\n",
    "        processing_instance_count,\n",
    "        processing_instance_type,\n",
    "        training_instance_type,\n",
    "    ],\n",
    "    steps=[\n",
    "        train_step_sklearn,\n",
    "        train_step_xgb,\n",
    "        evaluate_step,\n",
    "        condition_register_sklearn,\n",
    "        condition_register_xgb\n",
    "    ],\n",
    "    sagemaker_session=pipeline_session\n",
    ")"
   ]
  },
  {
   "cell_type": "code",
   "execution_count": 12,
   "id": "c3e71fe4-b1d8-4b55-989f-6809669ad40f",
   "metadata": {
    "execution": {
     "iopub.execute_input": "2025-10-27T06:08:43.539069Z",
     "iopub.status.busy": "2025-10-27T06:08:43.538771Z",
     "iopub.status.idle": "2025-10-27T06:08:44.523115Z",
     "shell.execute_reply": "2025-10-27T06:08:44.522519Z",
     "shell.execute_reply.started": "2025-10-27T06:08:43.539041Z"
    }
   },
   "outputs": [
    {
     "name": "stderr",
     "output_type": "stream",
     "text": [
      "WARNING:sagemaker.workflow.utilities:The input argument instance_type of function (sagemaker.image_uris.get_training_image_uri) is a pipeline variable (<class 'sagemaker.workflow.parameters.ParameterString'>), which is interpreted in pipeline execution time only. As the function needs to evaluate the argument value in SDK compile time, the default_value of this Parameter object will be used to override it. Please make sure the default_value is valid.\n",
      "WARNING:sagemaker.workflow.utilities:The input argument instance_type of function (sagemaker.image_uris.get_training_image_uri) is a pipeline variable (<class 'sagemaker.workflow.parameters.ParameterString'>), which is interpreted in pipeline execution time only. As the function needs to evaluate the argument value in SDK compile time, the default_value of this Parameter object will be used to override it. Please make sure the default_value is valid.\n",
      "WARNING:sagemaker.workflow.utilities:Popping out 'TrainingJobName' from the pipeline definition by default since it will be overridden at pipeline execution time. Please utilize the PipelineDefinitionConfig to persist this field in the pipeline definition if desired.\n",
      "WARNING:sagemaker.workflow.utilities:Popping out 'TrainingJobName' from the pipeline definition by default since it will be overridden at pipeline execution time. Please utilize the PipelineDefinitionConfig to persist this field in the pipeline definition if desired.\n",
      "WARNING:sagemaker.workflow.utilities:Popping out 'ProcessingJobName' from the pipeline definition by default since it will be overridden at pipeline execution time. Please utilize the PipelineDefinitionConfig to persist this field in the pipeline definition if desired.\n",
      "WARNING:sagemaker.workflow._utils:Popping out 'CertifyForMarketplace' from the pipeline definition since it will be overridden in pipeline execution time.\n",
      "WARNING:sagemaker.workflow.utilities:Popping out 'ModelPackageName' from the pipeline definition by default since it will be overridden at pipeline execution time. Please utilize the PipelineDefinitionConfig to persist this field in the pipeline definition if desired.\n",
      "WARNING:sagemaker.workflow._utils:Popping out 'CertifyForMarketplace' from the pipeline definition since it will be overridden in pipeline execution time.\n",
      "WARNING:sagemaker.workflow.utilities:Popping out 'ModelPackageName' from the pipeline definition by default since it will be overridden at pipeline execution time. Please utilize the PipelineDefinitionConfig to persist this field in the pipeline definition if desired.\n",
      "WARNING:sagemaker.workflow.utilities:The input argument instance_type of function (sagemaker.image_uris.get_training_image_uri) is a pipeline variable (<class 'sagemaker.workflow.parameters.ParameterString'>), which is interpreted in pipeline execution time only. As the function needs to evaluate the argument value in SDK compile time, the default_value of this Parameter object will be used to override it. Please make sure the default_value is valid.\n",
      "WARNING:sagemaker.workflow.utilities:Popping out 'TrainingJobName' from the pipeline definition by default since it will be overridden at pipeline execution time. Please utilize the PipelineDefinitionConfig to persist this field in the pipeline definition if desired.\n",
      "WARNING:sagemaker.workflow.utilities:Popping out 'TrainingJobName' from the pipeline definition by default since it will be overridden at pipeline execution time. Please utilize the PipelineDefinitionConfig to persist this field in the pipeline definition if desired.\n",
      "WARNING:sagemaker.workflow.utilities:Popping out 'ProcessingJobName' from the pipeline definition by default since it will be overridden at pipeline execution time. Please utilize the PipelineDefinitionConfig to persist this field in the pipeline definition if desired.\n",
      "WARNING:sagemaker.workflow.utilities:Popping out 'ModelPackageName' from the pipeline definition by default since it will be overridden at pipeline execution time. Please utilize the PipelineDefinitionConfig to persist this field in the pipeline definition if desired.\n",
      "WARNING:sagemaker.workflow.utilities:Popping out 'ModelPackageName' from the pipeline definition by default since it will be overridden at pipeline execution time. Please utilize the PipelineDefinitionConfig to persist this field in the pipeline definition if desired.\n"
     ]
    },
    {
     "name": "stdout",
     "output_type": "stream",
     "text": [
      "Pipeline execution started: arn:aws:sagemaker:us-east-1:303848588930:pipeline/StudentAnxietyPipeline/execution/cbqlr72i37st\n"
     ]
    }
   ],
   "source": [
    "# Executing pipeline\n",
    "pipeline.upsert(role_arn=role)\n",
    "\n",
    "execution = pipeline.start()\n",
    "print(f\"Pipeline execution started: {execution.arn}\")"
   ]
  },
  {
   "cell_type": "code",
   "execution_count": 13,
   "id": "ee49578f-e4eb-4226-be7f-fad710e57863",
   "metadata": {
    "execution": {
     "iopub.execute_input": "2025-10-27T06:08:44.524089Z",
     "iopub.status.busy": "2025-10-27T06:08:44.523753Z",
     "iopub.status.idle": "2025-10-27T06:08:44.607335Z",
     "shell.execute_reply": "2025-10-27T06:08:44.606784Z",
     "shell.execute_reply.started": "2025-10-27T06:08:44.524060Z"
    }
   },
   "outputs": [
    {
     "data": {
      "text/plain": [
       "'Executing'"
      ]
     },
     "execution_count": 13,
     "metadata": {},
     "output_type": "execute_result"
    }
   ],
   "source": [
    "execution.describe()[\"PipelineExecutionStatus\"]"
   ]
  },
  {
   "cell_type": "code",
   "execution_count": 17,
   "id": "0f5ca4cf-1f1e-4c06-823a-7be51f2d117c",
   "metadata": {
    "execution": {
     "iopub.execute_input": "2025-10-27T06:15:10.200665Z",
     "iopub.status.busy": "2025-10-27T06:15:10.200406Z",
     "iopub.status.idle": "2025-10-27T06:15:10.326063Z",
     "shell.execute_reply": "2025-10-27T06:15:10.325384Z",
     "shell.execute_reply.started": "2025-10-27T06:15:10.200646Z"
    }
   },
   "outputs": [
    {
     "name": "stdout",
     "output_type": "stream",
     "text": [
      "EvaluateModels Failed\n",
      "TrainXGBoostModel Succeeded\n",
      "TrainBaselineModel Succeeded\n"
     ]
    }
   ],
   "source": [
    "for step in execution.list_steps():\n",
    "    print(step['StepName'], step['StepStatus'])"
   ]
  },
  {
   "cell_type": "code",
   "execution_count": null,
   "id": "14634d6f-073b-4570-a8b5-45afe081c46d",
   "metadata": {},
   "outputs": [],
   "source": []
  }
 ],
 "metadata": {
  "kernelspec": {
   "display_name": "Python 3 (ipykernel)",
   "language": "python",
   "name": "python3"
  },
  "language_info": {
   "codemirror_mode": {
    "name": "ipython",
    "version": 3
   },
   "file_extension": ".py",
   "mimetype": "text/x-python",
   "name": "python",
   "nbconvert_exporter": "python",
   "pygments_lexer": "ipython3",
   "version": "3.12.9"
  }
 },
 "nbformat": 4,
 "nbformat_minor": 5
}
